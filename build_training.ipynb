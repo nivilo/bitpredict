{
 "cells": [
  {
   "cell_type": "code",
   "execution_count": 1,
   "metadata": {
    "collapsed": true
   },
   "outputs": [],
   "source": [
    "from funcs_general import *\n",
    "sys.path.insert(0,'/var/www/vhosts/algotrade.glueckert.net/projects/') \n",
    "from SETTINGS.settings_auth import *\n",
    "from funcs_traindata import *\n",
    "\n",
    "# more data: http://www.cryptodatasets.com/"
   ]
  },
  {
   "cell_type": "code",
   "execution_count": 3,
   "metadata": {
    "collapsed": true
   },
   "outputs": [],
   "source": [
    "def exit_handler():\n",
    "    if  'pool' in globals() or 'pool' in locals():   pool.terminate()\n",
    "    if  'WPOOL' in globals() or 'WPOOL' in locals():   WPOOL.terminate()\n",
    "    print('App terminated, closing Pool.')\n",
    "\n",
    "def make_data(e):\n",
    "    symbol = e['symbol']\n",
    "    dt = e['date']\n",
    "    min_ts = e['start']\n",
    "    max_ts = e['end']\n",
    "    print('-------------creating features day...: ' + str(dt))\n",
    "    data = pd.DataFrame({})\n",
    "    try:\n",
    "        data = make_features(symbol,\n",
    "                             min_ts=-2000+min_ts,\n",
    "                             max_ts=2000+max_ts,\n",
    "                             mid_offsets=[60,120,300,600,900,1800],\n",
    "                             trades_offsets=[30, 60, 120,360,900],\n",
    "                             powers=[2, 4])\n",
    "        data = data[~data.index.duplicated()].sort_index()\n",
    "        dates = [datetime.datetime.fromtimestamp(int(d)).date() for d in data.index]\n",
    "        data = data.loc[np.isin(dates,dt),:]\n",
    "        print(\"data n : \" + str(data.shape[0]))\n",
    "        data.to_csv('bitfinex_btcusd/'+ symbol + '_' + str(dt)  + '.csv')\n",
    "    except Exception as e:\n",
    "        with open('bitfinex_btcusd/log_' + symbol + '_' + str(dt)  + '.txt', 'w') as f: f.write(str(e))\n",
    "    gc.collect()\n",
    "        \n"
   ]
  },
  {
   "cell_type": "code",
   "execution_count": 4,
   "metadata": {},
   "outputs": [
    {
     "name": "stdout",
     "output_type": "stream",
     "text": [
      "-------------creating features day...: 2017-12-30\n",
      "-------------creating features day...: 2017-12-31\n"
     ]
    },
    {
     "name": "stderr",
     "output_type": "stream",
     "text": [
      "/apps/anaconda3/lib/python3.6/site-packages/pymongo/topology.py:145: UserWarning: MongoClient opened before fork. Create MongoClient with connect=False, or create client after forking. See PyMongo's documentation for details: http://api.mongodb.org/python/current/faq.html#pymongo-fork-safe>\n",
      "  \"MongoClient opened before fork. Create MongoClient \"\n",
      "/apps/anaconda3/lib/python3.6/site-packages/pymongo/topology.py:145: UserWarning: MongoClient opened before fork. Create MongoClient with connect=False, or create client after forking. See PyMongo's documentation for details: http://api.mongodb.org/python/current/faq.html#pymongo-fork-safe>\n",
      "  \"MongoClient opened before fork. Create MongoClient \"\n"
     ]
    },
    {
     "name": "stdout",
     "output_type": "stream",
     "text": [
      "get book data run time: 0.6241733312606812 minutes\n",
      "get book data run time: 0.6258537769317627 minutes\n",
      "width and mid run time: 0.10150318543116252 minutes\n",
      "width and mid run time: 0.10652031898498535 minutes\n",
      "offset mids run time: 0.6386520663897196 minutes\n",
      "offset mids run time: 0.6435851136843364 minutes\n",
      "power calcs run time: 4.184088687102 minutes\n",
      "power calcs run time: 4.2201513449351 minutes\n",
      "trade features run time: 6.812622809410096 minutes\n",
      "make_features run time: 12.362808835506438 minutes\n",
      "trade features run time: 7.066309603055318 minutes\n",
      "make_features run time: 12.660826472441356 minutes\n"
     ]
    }
   ],
   "source": [
    "from multiprocessing import Pool\n",
    "\n",
    "WPOOL = Pool(12)\n",
    "\n",
    "if __name__ == '__main__':\n",
    "    WPOOL.map(make_data, get_books_days_ts(symbol='btc',date_from=date(2017,12,30),date_to=date(2017,12,31)))\n",
    "    WPOOL.close()\n",
    "    d = merge_csvs(path = 'bitfinex_btcusd/')\n",
    "    d.to_csv('training_data/bitfinex_btcusd.csv.gz', index=False,header=True,compression='gzip')"
   ]
  },
  {
   "cell_type": "code",
   "execution_count": null,
   "metadata": {},
   "outputs": [],
   "source": []
  }
 ],
 "metadata": {
  "kernelspec": {
   "display_name": "Python 3",
   "language": "python",
   "name": "python3"
  },
  "language_info": {
   "codemirror_mode": {
    "name": "ipython",
    "version": 3
   },
   "file_extension": ".py",
   "mimetype": "text/x-python",
   "name": "python",
   "nbconvert_exporter": "python",
   "pygments_lexer": "ipython3",
   "version": "3.6.3"
  }
 },
 "nbformat": 4,
 "nbformat_minor": 1
}
