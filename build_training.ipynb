{
 "cells": [
  {
   "cell_type": "markdown",
   "metadata": {},
   "source": [
    "# Feature generation bitfinex bitcoin 10s data from orderbook and trades"
   ]
  },
  {
   "cell_type": "code",
   "execution_count": 1,
   "metadata": {
    "collapsed": true
   },
   "outputs": [],
   "source": [
    "from __init__ import *\n",
    "from funcs_traindata import *"
   ]
  },
  {
   "cell_type": "code",
   "execution_count": 2,
   "metadata": {
    "collapsed": true
   },
   "outputs": [],
   "source": [
    "def make_backtest_data(e):\n",
    "    symbol = e['symbol']\n",
    "    dt = e['date']\n",
    "    min_ts = e['start']\n",
    "    max_ts = e['end']\n",
    "    print('-------------creating features day...: ' + str(dt))\n",
    "    data = pd.DataFrame({})\n",
    "    try:\n",
    "        data = make_features(symbol,\n",
    "                             min_ts=-2000+min_ts,\n",
    "                             max_ts=2000+max_ts,\n",
    "                             mid_offsets=[60,120,300,600,900,1800],\n",
    "                             trades_offsets=[30, 60, 120,360,900],\n",
    "                             powers=[2, 4])\n",
    "        data = data[~data.index.duplicated()].sort_index()\n",
    "        dates = [datetime.fromtimestamp(int(d)).date() for d in data.index]\n",
    "        data = data.loc[np.isin(dates,dt),:]\n",
    "        print(\"data n : \" + str(data.shape[0]))\n",
    "        data.to_csv('bitfinex_btcusd/'+ symbol + '_' + str(dt)  + '.csv')\n",
    "    except Exception as e:\n",
    "        with open('bitfinex_btcusd/log_' + symbol + '_' + str(dt)  + '.txt', 'w') as f: f.write(str(e))\n",
    "    gc.collect()"
   ]
  },
  {
   "cell_type": "code",
   "execution_count": null,
   "metadata": {},
   "outputs": [
    {
     "name": "stdout",
     "output_type": "stream",
     "text": [
      "-------------creating features day...: 2018-01-25\n",
      "-------------creating features day...: 2018-01-27\n"
     ]
    },
    {
     "name": "stderr",
     "output_type": "stream",
     "text": [
      "/apps/anaconda3/lib/python3.6/site-packages/pymongo/topology.py:145: UserWarning: MongoClient opened before fork. Create MongoClient with connect=False, or create client after forking. See PyMongo's documentation for details: http://api.mongodb.org/python/current/faq.html#pymongo-fork-safe>\n",
      "  \"MongoClient opened before fork. Create MongoClient \"\n"
     ]
    },
    {
     "name": "stdout",
     "output_type": "stream",
     "text": [
      "-------------creating features day...: 2018-01-26\n",
      "-------------creating features day...: 2018-01-24\n"
     ]
    },
    {
     "name": "stderr",
     "output_type": "stream",
     "text": [
      "/apps/anaconda3/lib/python3.6/site-packages/pymongo/topology.py:145: UserWarning: MongoClient opened before fork. Create MongoClient with connect=False, or create client after forking. See PyMongo's documentation for details: http://api.mongodb.org/python/current/faq.html#pymongo-fork-safe>\n",
      "  \"MongoClient opened before fork. Create MongoClient \"\n"
     ]
    },
    {
     "name": "stdout",
     "output_type": "stream",
     "text": [
      "-------------creating features day...: 2018-01-28\n"
     ]
    },
    {
     "name": "stderr",
     "output_type": "stream",
     "text": [
      "/apps/anaconda3/lib/python3.6/site-packages/pymongo/topology.py:145: UserWarning: MongoClient opened before fork. Create MongoClient with connect=False, or create client after forking. See PyMongo's documentation for details: http://api.mongodb.org/python/current/faq.html#pymongo-fork-safe>\n",
      "  \"MongoClient opened before fork. Create MongoClient \"\n"
     ]
    },
    {
     "name": "stdout",
     "output_type": "stream",
     "text": [
      "-------------creating features day...: 2018-01-29\n"
     ]
    },
    {
     "name": "stderr",
     "output_type": "stream",
     "text": [
      "/apps/anaconda3/lib/python3.6/site-packages/pymongo/topology.py:145: UserWarning: MongoClient opened before fork. Create MongoClient with connect=False, or create client after forking. See PyMongo's documentation for details: http://api.mongodb.org/python/current/faq.html#pymongo-fork-safe>\n",
      "  \"MongoClient opened before fork. Create MongoClient \"\n",
      "/apps/anaconda3/lib/python3.6/site-packages/pymongo/topology.py:145: UserWarning: MongoClient opened before fork. Create MongoClient with connect=False, or create client after forking. See PyMongo's documentation for details: http://api.mongodb.org/python/current/faq.html#pymongo-fork-safe>\n",
      "  \"MongoClient opened before fork. Create MongoClient \"\n",
      "/apps/anaconda3/lib/python3.6/site-packages/pymongo/topology.py:145: UserWarning: MongoClient opened before fork. Create MongoClient with connect=False, or create client after forking. See PyMongo's documentation for details: http://api.mongodb.org/python/current/faq.html#pymongo-fork-safe>\n",
      "  \"MongoClient opened before fork. Create MongoClient \"\n"
     ]
    },
    {
     "name": "stdout",
     "output_type": "stream",
     "text": [
      "-------------creating features day...: 2018-01-30\n",
      "-------------creating features day...: 2018-01-31\n",
      "get book data run time: 0.1862454891204834 minutes\n",
      "get book data run time: 0.19720654884974162 minutes\n",
      "width and mid run time: 0.027690819899241128 minutes\n",
      "width and mid run time: 0.03332376480102539 minutes\n",
      "offset mids run time: 0.1370589812596639 minutes\n",
      "offset mids run time: 0.15492388407389324 minutes\n",
      "get book data run time: 0.4097092350323995 minutes\n",
      "width and mid run time: 0.07715133428573609 minutes\n",
      "get book data run time: 0.6172431270281474 minutes\n",
      "get book data run time: 0.6226019382476806 minutes\n",
      "get book data run time: 0.6337863643964131 minutes\n",
      "width and mid run time: 0.10971877972284953 minutes\n",
      "width and mid run time: 0.10484242041905721 minutes\n",
      "width and mid run time: 0.09527207612991333 minutes\n",
      "offset mids run time: 0.3747561653455099 minutes\n",
      "offset mids run time: 0.6372862100601197 minutes\n",
      "offset mids run time: 0.6404053092002868 minutes\n",
      "offset mids run time: 0.6400583227475484 minutes\n",
      "power calcs run time: 1.2400226712226867 minutes\n",
      "power calcs run time: 1.2966569026311239 minutes\n",
      "power calcs run time: 2.8081407149632773 minutes\n",
      "trade features run time: 2.3517551819483438 minutes\n",
      "make_features run time: 3.9429138779640196 minutes\n",
      "data n : 7569\n",
      "-------------creating features day...: 2018-02-01\n",
      "trade features run time: 2.397505521774292 minutes\n",
      "make_features run time: 4.079707523187001 minutes\n",
      "data n : 7672\n",
      "-------------creating features day...: 2018-02-02\n",
      "get book data run time: 0.607178254922231 minutes\n",
      "width and mid run time: 0.10772943099339803 minutes\n",
      "get book data run time: 0.6136984467506409 minutes\n",
      "width and mid run time: 0.12210023005803426 minutes\n",
      "offset mids run time: 0.629200832049052 minutes\n",
      "offset mids run time: 0.64976487159729 minutes\n",
      "power calcs run time: 4.227564509709676 minutes\n",
      "power calcs run time: 4.235608927408854 minutes\n",
      "power calcs run time: 4.246868391831716 minutes\n",
      "trade features run time: 4.6029881993929544 minutes\n",
      "make_features run time: 8.27287489970525 minutes\n",
      "data n : 18356\n",
      "power calcs run time: 4.225061070919037 minutes\n",
      "power calcs run time: 4.249863974253336 minutes\n",
      "trade features run time: 6.8743405421574915 minutes\n",
      "make_features run time: 12.477428603172303 minutes\n",
      "data n : 27348\n",
      "trade features run time: 6.6999995032946265 minutes\n",
      "make_features run time: 12.269284780820211 minutes\n",
      "data n : 27061\n",
      "trade features run time: 6.783757392565409 minutes\n",
      "make_features run time: 12.419352487723033 minutes\n",
      "data n : 27203\n"
     ]
    }
   ],
   "source": [
    "WPOOL = Pool(6)\n",
    "\n",
    "if __name__ == '__main__':\n",
    "    WPOOL.map(make_backtest_data, get_books_days_ts(symbol='btc',date_from=date(2018,1,24),date_to=date(2018,2,2)))\n",
    "    WPOOL.close()\n",
    "    client.close()\n",
    "    d = merge_csvs(path = 'bitfinex_btcusd/')\n",
    "    d.to_csv('training_data/bitfinex_btcusd.csv.gz', index=False,header=True,compression='gzip')"
   ]
  }
 ],
 "metadata": {
  "kernelspec": {
   "display_name": "Python 3",
   "language": "python",
   "name": "python3"
  },
  "language_info": {
   "codemirror_mode": {
    "name": "ipython",
    "version": 3
   },
   "file_extension": ".py",
   "mimetype": "text/x-python",
   "name": "python",
   "nbconvert_exporter": "python",
   "pygments_lexer": "ipython3",
   "version": "3.6.4"
  }
 },
 "nbformat": 4,
 "nbformat_minor": 1
}
