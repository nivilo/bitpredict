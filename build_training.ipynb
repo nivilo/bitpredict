{
 "cells": [
  {
   "cell_type": "markdown",
   "metadata": {},
   "source": [
    "# Feature generation bitfinex bitcoin 10s data from orderbook and trades"
   ]
  },
  {
   "cell_type": "code",
   "execution_count": 7,
   "metadata": {
    "collapsed": true
   },
   "outputs": [],
   "source": [
    "from __init__ import *\n",
    "from funcs_traindata import *"
   ]
  },
  {
   "cell_type": "code",
   "execution_count": 8,
   "metadata": {
    "collapsed": true
   },
   "outputs": [],
   "source": [
    "def make_data(e):\n",
    "    symbol = e['symbol']\n",
    "    dt = e['date']\n",
    "    min_ts = e['start']\n",
    "    max_ts = e['end']\n",
    "    print('-------------creating features day...: ' + str(dt))\n",
    "    data = pd.DataFrame({})\n",
    "    try:\n",
    "        data = make_features(symbol,\n",
    "                             min_ts=-2000+min_ts,\n",
    "                             max_ts=2000+max_ts,\n",
    "                             mid_offsets=[60,120,300,600,900,1800],\n",
    "                             trades_offsets=[30, 60, 120,360,900],\n",
    "                             powers=[2, 4])\n",
    "        data = data[~data.index.duplicated()].sort_index()\n",
    "        dates = [datetime.fromtimestamp(int(d)).date() for d in data.index]\n",
    "        data = data.loc[np.isin(dates,dt),:]\n",
    "        print(\"data n : \" + str(data.shape[0]))\n",
    "        data.to_csv('bitfinex_btcusd/'+ symbol + '_' + str(dt)  + '.csv')\n",
    "    except Exception as e:\n",
    "        with open('bitfinex_btcusd/log_' + symbol + '_' + str(dt)  + '.txt', 'w') as f: f.write(str(e))\n",
    "    gc.collect()"
   ]
  },
  {
   "cell_type": "code",
   "execution_count": null,
   "metadata": {
    "collapsed": true
   },
   "outputs": [],
   "source": [
    "WPOOL.map(make_data, get_books_days_ts(symbol='btc',date_from=date(2017,10,31),date_to=date(2017,10,31)))"
   ]
  },
  {
   "cell_type": "code",
   "execution_count": null,
   "metadata": {},
   "outputs": [
    {
     "name": "stdout",
     "output_type": "stream",
     "text": [
      "-------------creating features day...: 2017-12-01\n"
     ]
    },
    {
     "name": "stderr",
     "output_type": "stream",
     "text": [
      "/apps/anaconda3/lib/python3.6/site-packages/pymongo/topology.py:145: UserWarning: MongoClient opened before fork. Create MongoClient with connect=False, or create client after forking. See PyMongo's documentation for details: http://api.mongodb.org/python/current/faq.html#pymongo-fork-safe>\n",
      "  \"MongoClient opened before fork. Create MongoClient \"\n"
     ]
    },
    {
     "name": "stdout",
     "output_type": "stream",
     "text": [
      "get book data run time: 0.7038404464721679 minutes\n",
      "width and mid run time: 0.11180973052978516 minutes\n",
      "offset mids run time: 0.7861955205599467 minutes\n",
      "power calcs run time: 4.823688598473867 minutes\n"
     ]
    }
   ],
   "source": [
    "WPOOL = Pool(6)\n",
    "\n",
    "if __name__ == '__main__':\n",
    "    WPOOL.map(make_data, get_books_days_ts(symbol='btc',date_from=date(2017,11,1),date_to=date(2017,11,31)))\n",
    "    WPOOL.close()\n",
    "    client.close()\n",
    "    d = merge_csvs(path = 'bitfinex_btcusd/')\n",
    "    d.to_csv('training_data/bitfinex_btcusd.csv.gz', index=False,header=True,compression='gzip')\n",
    "    \n",
    "d = merge_csvs(path = 'bitfinex_btcusd/')\n",
    "d.to_csv('training_data/bitfinex_btcusd.csv.gz', index=False,header=True,compression='gzip')"
   ]
  }
 ],
 "metadata": {
  "kernelspec": {
   "display_name": "Python 3",
   "language": "python",
   "name": "python3"
  },
  "language_info": {
   "codemirror_mode": {
    "name": "ipython",
    "version": 3
   },
   "file_extension": ".py",
   "mimetype": "text/x-python",
   "name": "python",
   "nbconvert_exporter": "python",
   "pygments_lexer": "ipython3",
   "version": "3.6.3"
  }
 },
 "nbformat": 4,
 "nbformat_minor": 1
}
