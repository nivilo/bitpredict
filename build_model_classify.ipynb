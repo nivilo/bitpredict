{
 "cells": [
  {
   "cell_type": "markdown",
   "metadata": {},
   "source": [
    "# Install packages"
   ]
  },
  {
   "cell_type": "code",
   "execution_count": null,
   "metadata": {
    "collapsed": true
   },
   "outputs": [],
   "source": [
    "#----install stuff\n",
    "!pip install mlxtend\n",
    "!pip install -U imbalanced-learn\n",
    "!python ../../software/python-glmnet/setup.py\n",
    "!conda install -c conda-forge tensorflow\n",
    "!conda install -c conda-forge keras"
   ]
  },
  {
   "cell_type": "markdown",
   "metadata": {},
   "source": [
    "# Import"
   ]
  },
  {
   "cell_type": "code",
   "execution_count": 136,
   "metadata": {},
   "outputs": [],
   "source": [
    "from __init__ import *\n",
    "from funcs_model import *\n",
    "from matplotlib import pyplot as plt\n",
    "from matplotlib import style as pltstyle\n",
    "pltstyle.use(\"ggplot\")"
   ]
  },
  {
   "cell_type": "markdown",
   "metadata": {},
   "source": [
    "# Feature transformers"
   ]
  },
  {
   "cell_type": "code",
   "execution_count": 3,
   "metadata": {},
   "outputs": [],
   "source": [
    "def transform_features(X):\n",
    "    # feature transformation: take sqrt of count data\n",
    "    for e in X.filter(regex=('count$')).columns: X[e] = np.sqrt(X[e] )\n",
    "    return X"
   ]
  },
  {
   "cell_type": "markdown",
   "metadata": {},
   "source": [
    "# Classification pipeline"
   ]
  },
  {
   "cell_type": "code",
   "execution_count": 93,
   "metadata": {},
   "outputs": [],
   "source": [
    "#--------classification pipe\n",
    "#clf2=LogitNet(fit_intercept=True,alpha=0,n_splits=3,n_jobs=1, scoring=score_custom_precision)\n",
    "fsel=RFECV(LogisticRegression(),step=1, cv=TimeSeriesSplit(n_splits=2), scoring=\"log_loss\", verbose=0, n_jobs=1)\n",
    "pipe=ImbPipe([\n",
    "            ('ft', FunctionTransformer(transform_features,validate=False)),\n",
    "            ('rs', RobustScaler()), \n",
    "            #('fs', fsel), \n",
    "            #('pca',PCA(n_components=10)),\n",
    "            #('sm', sm), \n",
    "            ('clf1',LogisticRegression(fit_intercept=True,C=0.001,class_weight='balanced'))\n",
    "            ])\n",
    "params = {\n",
    "          'clf1__C': [0.001,0.0025,0.005,0.0075,0.01,0.025,0.05],\n",
    "            'clf1__penalty': ['l1']\n",
    "         }\n",
    "grid1 = GridSearchCV(estimator=pipe,refit=True,param_grid=params,n_jobs=8,verbose=0,\n",
    "                    cv=TimeSeriesSplit(n_splits=2,max_train_size=80000),\n",
    "                    scoring=\"log_loss\")\n",
    "grid2 = GridSearchCV(estimator=pipe,refit=True,param_grid=params,n_jobs=8,verbose=0,\n",
    "                    cv=TimeSeriesSplit(n_splits=2,max_train_size=80000),\n",
    "                    scoring=score_custom_precision)"
   ]
  },
  {
   "cell_type": "markdown",
   "metadata": {},
   "source": [
    "# Data prep"
   ]
  },
  {
   "cell_type": "code",
   "execution_count": 5,
   "metadata": {},
   "outputs": [
    {
     "name": "stdout",
     "output_type": "stream",
     "text": [
      "............shape dataset: (1665559, 35)\n",
      "............days in datase: 64\n"
     ]
    }
   ],
   "source": [
    "# -------load data\n",
    "data=pd.read_csv(\"training_data/bitfinex_btcusd.csv.gz\")\n",
    "DAYS=ma.ceil((data.timstamp[-1:] - data.timstamp[1])/3600/24)\n",
    "print('............shape dataset:', data.shape)\n",
    "print('............days in datase:', DAYS)"
   ]
  },
  {
   "cell_type": "code",
   "execution_count": 6,
   "metadata": {},
   "outputs": [],
   "source": [
    "def prep_data(data,col_target,col_price,vector_time,P):\n",
    "    d=data.copy()\n",
    "    d['timstamp'] = d[vector_time]\n",
    "    d['price_real'] = d[col_price]\n",
    "    d['target'] = d[col_target]\n",
    "    if P['DIRECTION'] == \"short\": d['target'] = -1 * d['target'] \n",
    "    d['target_cat'] = np.where(d['target'] >= P['THRES_PROF'], 1,0)\n",
    "    d=d.dropna(subset=[P['FEATURES'] + [col_target,'target','target_cat']])\n",
    "    return d"
   ]
  },
  {
   "cell_type": "markdown",
   "metadata": {},
   "source": [
    "# Run best model"
   ]
  },
  {
   "cell_type": "code",
   "execution_count": 94,
   "metadata": {},
   "outputs": [
    {
     "name": "stdout",
     "output_type": "stream",
     "text": [
      "from_i: 102949 to_i: 109808 targets_total: 6742 targets_prop 0.0699464663651\n",
      "{'clf1__C': 0.0025, 'clf1__penalty': 'l1'} 0.113669450651\n",
      "from_i: 109809 to_i: 116668 targets_total: 6793 targets_prop 0.0703974299186\n",
      "{'clf1__C': 0.005, 'clf1__penalty': 'l1'} 0.112973387359\n",
      "from_i: 116669 to_i: 123528 targets_total: 6243 targets_prop 0.0645571583682\n",
      "{'clf1__C': 0.001, 'clf1__penalty': 'l1'} 0.107971257407\n",
      "from_i: 123529 to_i: 130388 targets_total: 5243 targets_prop 0.0540370622307\n",
      "{'clf1__C': 0.0025, 'clf1__penalty': 'l1'} 0.130392449278\n",
      "from_i: 130389 to_i: 137248 targets_total: 6209 targets_prop 0.0639141086612\n",
      "{'clf1__C': 0.01, 'clf1__penalty': 'l1'} 0.237095830762\n",
      "from_i: 137249 to_i: 144108 targets_total: 6308 targets_prop 0.0649800156578\n",
      "{'clf1__C': 0.025, 'clf1__penalty': 'l1'} 0.246760858358\n",
      "from_i: 144109 to_i: 150968 targets_total: 5965 targets_prop 0.0613468539811\n",
      "{'clf1__C': 0.01, 'clf1__penalty': 'l1'} 0.0874182301208\n",
      "from_i: 150969 to_i: 157828 targets_total: 5930 targets_prop 0.0608329913828\n",
      "{'clf1__C': 0.025, 'clf1__penalty': 'l1'} 0.0935394479886\n",
      "from_i: 157829 to_i: 164688 targets_total: 6568 targets_prop 0.0673917504617\n",
      "{'clf1__C': 0.001, 'clf1__penalty': 'l1'} 0.36624388073\n",
      "from_i: 164689 to_i: 171548 targets_total: 6594 targets_prop 0.0676619978452\n",
      "{'clf1__C': 0.05, 'clf1__penalty': 'l1'} 0.130109323529\n",
      "from_i: 171549 to_i: 178408 targets_total: 6451 targets_prop 0.0662408740386\n",
      "{'clf1__C': 0.0025, 'clf1__penalty': 'l1'} 0.163406982714\n",
      "from_i: 178409 to_i: 185268 targets_total: 6469 targets_prop 0.0664550460224\n",
      "{'clf1__C': 0.0025, 'clf1__penalty': 'l1'} 0.12129240886\n",
      "from_i: 185269 to_i: 192128 targets_total: 6441 targets_prop 0.0660961118123\n",
      "{'clf1__C': 0.05, 'clf1__penalty': 'l1'} 0.137803299147\n",
      "from_i: 192129 to_i: 198988 targets_total: 6784 targets_prop 0.0695944767591\n",
      "{'clf1__C': 0.025, 'clf1__penalty': 'l1'} 0.138925581207\n",
      "from_i: 198989 to_i: 205848 targets_total: 7003 targets_prop 0.0719089816916\n",
      "{'clf1__C': 0.0025, 'clf1__penalty': 'l1'} 0.184711506331\n",
      "from_i: 205849 to_i: 212708 targets_total: 6673 targets_prop 0.0685549322978\n",
      "{'clf1__C': 0.0025, 'clf1__penalty': 'l1'} 0.304312340392\n",
      "from_i: 212709 to_i: 219568 targets_total: 6892 targets_prop 0.0709330808341\n",
      "{'clf1__C': 0.05, 'clf1__penalty': 'l1'} 0.584505273732\n",
      "from_i: 219569 to_i: 226428 targets_total: 8898 targets_prop 0.0917982048901\n",
      "{'clf1__C': 0.05, 'clf1__penalty': 'l1'} 0.34719357164\n",
      "from_i: 226429 to_i: 233288 targets_total: 9060 targets_prop 0.0935187192271\n",
      "{'clf1__C': 0.05, 'clf1__penalty': 'l1'} 0.197382226419\n",
      "from_i: 233289 to_i: 240148 targets_total: 10190 targets_prop 0.105208817304\n",
      "{'clf1__C': 0.025, 'clf1__penalty': 'l1'} 0.193293885602\n",
      "from_i: 240149 to_i: 247008 targets_total: 10309 targets_prop 0.106411090123\n",
      "{'clf1__C': 0.025, 'clf1__penalty': 'l1'} 0.758409785933\n",
      "from_i: 247009 to_i: 253868 targets_total: 10639 targets_prop 0.109751694399\n",
      "{'clf1__C': 0.05, 'clf1__penalty': 'l1'} 0.618497722216\n",
      "from_i: 253869 to_i: 260728 targets_total: 10301 targets_prop 0.106250644662\n",
      "{'clf1__C': 0.025, 'clf1__penalty': 'l1'} 0.147914177992\n",
      "from_i: 260729 to_i: 267588 targets_total: 10104 targets_prop 0.104173540086\n",
      "{'clf1__C': 0.05, 'clf1__penalty': 'l1'} 0.139737869287\n",
      "from_i: 267589 to_i: 274448 targets_total: 10006 targets_prop 0.103246177023\n",
      "{'clf1__C': 0.0025, 'clf1__penalty': 'l1'} 0.146911960357\n",
      "from_i: 274449 to_i: 281308 targets_total: 10589 targets_prop 0.109184083809\n",
      "{'clf1__C': 0.0025, 'clf1__penalty': 'l1'} 0.258711716085\n",
      "from_i: 281309 to_i: 288168 targets_total: 11620 targets_prop 0.120000413082\n",
      "{'clf1__C': 0.001, 'clf1__penalty': 'l1'} 0.163557316673\n",
      "from_i: 288169 to_i: 295028 targets_total: 13202 targets_prop 0.136356124768\n",
      "{'clf1__C': 0.001, 'clf1__penalty': 'l1'} 0.196820154609\n",
      "from_i: 295029 to_i: 301888 targets_total: 14458 targets_prop 0.149614528897\n",
      "{'clf1__C': 0.025, 'clf1__penalty': 'l1'} 0.189681888025\n",
      "from_i: 301889 to_i: 308748 targets_total: 15538 targets_prop 0.161017212614\n",
      "{'clf1__C': 0.001, 'clf1__penalty': 'l1'} 0.183963589676\n",
      "from_i: 308749 to_i: 315608 targets_total: 16105 targets_prop 0.166977708657\n",
      "{'clf1__C': 0.025, 'clf1__penalty': 'l1'} 0.282415999439\n",
      "from_i: 315609 to_i: 322468 targets_total: 15525 targets_prop 0.160974244121\n",
      "{'clf1__C': 0.005, 'clf1__penalty': 'l1'} 0.287701751219\n",
      "from_i: 322469 to_i: 329328 targets_total: 14897 targets_prop 0.154414660945\n",
      "{'clf1__C': 0.05, 'clf1__penalty': 'l1'} 0.2673749781\n",
      "from_i: 329329 to_i: 336188 targets_total: 13908 targets_prop 0.144296311667\n",
      "{'clf1__C': 0.025, 'clf1__penalty': 'l1'} 0.216572298146\n",
      "from_i: 336189 to_i: 343048 targets_total: 12938 targets_prop 0.13431890618\n",
      "{'clf1__C': 0.025, 'clf1__penalty': 'l1'} 0.206920927856\n",
      "from_i: 343049 to_i: 349908 targets_total: 12779 targets_prop 0.132673719619\n",
      "{'clf1__C': 0.0025, 'clf1__penalty': 'l1'} 0.207755812163\n",
      "from_i: 349909 to_i: 356768 targets_total: 12562 targets_prop 0.130481750005\n",
      "{'clf1__C': 0.001, 'clf1__penalty': 'l1'} 0.197637822436\n",
      "from_i: 356769 to_i: 363628 targets_total: 12202 targets_prop 0.126687154782\n",
      "{'clf1__C': 0.01, 'clf1__penalty': 'l1'} 0.157507927966\n",
      "from_i: 363629 to_i: 370488 targets_total: 12801 targets_prop 0.132840064754\n",
      "{'clf1__C': 0.025, 'clf1__penalty': 'l1'} 0.208839138053\n",
      "from_i: 370489 to_i: 377348 targets_total: 12661 targets_prop 0.13143361362\n",
      "{'clf1__C': 0.0075, 'clf1__penalty': 'l1'} 0.230562284787\n",
      "from_i: 377349 to_i: 384208 targets_total: 12501 targets_prop 0.129765921005\n",
      "{'clf1__C': 0.025, 'clf1__penalty': 'l1'} 0.21382554305\n",
      "from_i: 384209 to_i: 391068 targets_total: 12342 targets_prop 0.128295218295\n",
      "{'clf1__C': 0.005, 'clf1__penalty': 'l1'} 0.184710406555\n",
      "from_i: 391069 to_i: 397928 targets_total: 10670 targets_prop 0.110944745981\n",
      "{'clf1__C': 0.05, 'clf1__penalty': 'l1'} 0.131669986365\n",
      "from_i: 397929 to_i: 404788 targets_total: 9558 targets_prop 0.0992513058016\n",
      "{'clf1__C': 0.05, 'clf1__penalty': 'l1'} 0.185803135301\n",
      "from_i: 404789 to_i: 411648 targets_total: 9936 targets_prop 0.10299895301\n",
      "{'clf1__C': 0.05, 'clf1__penalty': 'l1'} 0.196133993085\n",
      "from_i: 411649 to_i: 418508 targets_total: 10206 targets_prop 0.10579893434\n",
      "{'clf1__C': 0.005, 'clf1__penalty': 'l1'} 0.189868308149\n",
      "from_i: 418509 to_i: 425368 targets_total: 10096 targets_prop 0.104671656956\n",
      "{'clf1__C': 0.01, 'clf1__penalty': 'l1'} 0.166179008504\n",
      "from_i: 425369 to_i: 432228 targets_total: 10172 targets_prop 0.105439920391\n",
      "{'clf1__C': 0.0075, 'clf1__penalty': 'l1'} 0.156271812626\n",
      "from_i: 432229 to_i: 439088 targets_total: 10601 targets_prop 0.109902755603\n",
      "{'clf1__C': 0.001, 'clf1__penalty': 'l1'} 0.15781674978\n",
      "from_i: 439089 to_i: 445948 targets_total: 10608 targets_prop 0.109960506266\n",
      "{'clf1__C': 0.001, 'clf1__penalty': 'l1'} 0.149013489296\n"
     ]
    }
   ],
   "source": [
    "#--------------BACKTESTING\n",
    "PARAS = OrderedDict(\n",
    "    TYPE=\"classify\",\n",
    "    DIRECTION = 'long',\n",
    "    THRES_PROF = 0.004081,\n",
    "    TARGET_TIME = 300,\n",
    "    TRAIN_THRES=0.005,\n",
    "    N_TRAIN = 100000,\n",
    "    N_TRAIN_MIN = 100000,\n",
    "    N_WINDOW_MIN = 100000,\n",
    "    TRAIN_STRATEGY = \"NONE\",\n",
    "    MODEL=grid1,\n",
    "    BACKTEST_SPLITS=64,\n",
    "    FEATURES = data.filter(regex=('width$|^(imba)|^(adj)|^(tr)|^(t[0-9])|^(agg)|(mid$)')).columns.tolist(),\n",
    "    FEE_BUY=0.002,\n",
    "    FEE_SELL=0.002,\n",
    "    MODEL_SCORER=None\n",
    ")\n",
    "\n",
    "d=prep_data(data,col_target='mid' + str(PARAS['TARGET_TIME']),col_price='mid',vector_time='timstamp',P=PARAS)\n",
    "test=backtesting(d,PARAS)"
   ]
  },
  {
   "cell_type": "markdown",
   "metadata": {},
   "source": [
    "# Evaluate model"
   ]
  },
  {
   "cell_type": "code",
   "execution_count": 151,
   "metadata": {},
   "outputs": [
    {
     "name": "stdout",
     "output_type": "stream",
     "text": [
      "        ROI  ROI_bench   ROI_day  trades       days  max_trades  days_trading  \\\n",
      "0  1.538826   0.791742  0.025012      94  61.523555       48495            18   \n",
      "\n",
      "   cutoff  precision      TYPE     ...      TRAIN_THRES  N_TRAIN  N_TRAIN_MIN  \\\n",
      "0    0.97   0.622995  classify     ...            0.005   100000       100000   \n",
      "\n",
      "   N_WINDOW_MIN  TRAIN_STRATEGY  BACKTEST_SPLITS  \\\n",
      "0        100000            NONE               64   \n",
      "\n",
      "                                            FEATURES FEE_BUY  FEE_SELL  \\\n",
      "0  [width, mid, imbalance2, adj_price2, imbalance...   0.002     0.002   \n",
      "\n",
      "  MODEL_SCORER  \n",
      "0         None  \n",
      "\n",
      "[1 rows x 23 columns]\n"
     ]
    },
    {
     "data": {
      "image/png": "[encoded data removed]",
      "text/plain": [
       "<matplotlib.figure.Figure at 0x7f7bf2a88470>"
      ]
     },
     "metadata": {},
     "output_type": "display_data"
    },
    {
     "data": {
      "text/plain": [
       "<ggplot: (-9223363276209041962)>"
      ]
     },
     "execution_count": 151,
     "metadata": {},
     "output_type": "execute_result"
    }
   ],
   "source": [
    "PARAS['FEE_BUY']=0.002\n",
    "PARAS['FEE_SELL']=0.002\n",
    "cutoff=list(np.arange(0.9,0.99,0.01))\n",
    "kpi_obj=eval_model(test,cutoff,PARAS)\n",
    "kpi = kpi_obj['data']\n",
    "print(kpi_obj['kpis'])\n",
    "from ggplot import *\n",
    "data_plot=pd.melt(kpi[['return_cum','price_real','time']], id_vars=['time'])\n",
    "p = ggplot(data_plot, aes(x='time', y='value', color='variable')) + geom_line() \n",
    "t = theme_gray()\n",
    "t._rcParams['figure.figsize'] = '15,10' \n",
    "p + t"
   ]
  },
  {
   "cell_type": "markdown",
   "metadata": {},
   "source": [
    "# Find best model"
   ]
  },
  {
   "cell_type": "code",
   "execution_count": 9,
   "metadata": {
    "collapsed": true
   },
   "outputs": [
    {
     "data": {
      "text/plain": [
       "'\\nresult=[]\\nrunner=pd.DataFrame(expandgrid(\\n                [\\'long\\'],\\n                [0.004081],\\n                [pipe],\\n                [100000,150000],\\n                [0.0042,0.006,0.007,0.008,0.009,0.01,0.012,0.014,0.016,0.018,0.02,0.022,0.024,0.026],\\n                #[0.013,0.014,0.015],\\n                [300,60,900]\\n))\\nrunner.columns = [\\'DIRECTION\\',\\'THRES_PROF\\',\\'MODEL\\',\\'N_TRAIN\\',\\'TRAIN_THRES\\',\\'TARGET_TIME\\']\\n\\nprint(\\'brute force runs: \\' + str(len(runner)))\\n\\nfor i in np.arange(0,runner.shape[0]):\\n    print(\\'#----------------\\' + str(i))\\n    with open(\\'log_backtest.txt\\', \\'a\\') as f: f.write(\\'#----------------\\' + str(i) + \\' of \\' +str(runner.shape[0]) )\\n    DIRECTION = runner.loc[i,\\'DIRECTION\\']\\n    THRES_PROF = runner.loc[i,\\'THRES_PROF\\']\\n    TARGET_TIME = runner.loc[i,\\'TARGET_TIME\\']\\n    TRAIN_THRES = runner.loc[i,\\'TRAIN_THRES\\']\\n    N_TRAIN = runner.loc[i,\\'N_TRAIN\\']\\n    N_TRAIN_MIN = 150000\\n    SKIP_TRADE=TARGET_TIME\\n    FEE_BUY=0.002\\n    FEE_SELL=0.002\\n    TYPE=\"classify\"\\n    TRAIN_STRATEGY = \"NONE\"\\n    MODEL=runner.loc[i,\\'MODEL\\']\\n    BACKTEST_SPLITS=10\\n    d=prep_data(data,col_target=\\'mid\\' + str(TARGET_TIME),col_price=\\'mid\\')\\n    FEATURES = d.filter(regex=(\\'width$|^(imba)|^(adj)|^(tr)|^(t[0-9])|^(agg)|(mid$)\\')).columns\\n    gc.collect()\\n    try:\\n        test=backtesting(d)\\n        r=eval_model(test,-999)[\\'kpis\\']\\n        result.append(r)\\n        pd.concat(result).sort_values(\"ROI\",ascending=False).to_csv(\\'models_brute.csv\\')\\n    except Exception as e: \\n        print(e)\\n        with open(\\'log_backtest.txt\\', \\'a\\') as f: f.write(\\'#----------------\\' + str(i) + str(e))\\n'"
      ]
     },
     "execution_count": 9,
     "metadata": {},
     "output_type": "execute_result"
    }
   ],
   "source": [
    "'''\n",
    "result=[]\n",
    "runner=pd.DataFrame(expandgrid(\n",
    "                ['long'],\n",
    "                [0.004081],\n",
    "                [pipe],\n",
    "                [100000,150000],\n",
    "                [0.0042,0.006,0.007,0.008,0.009,0.01,0.012,0.014,0.016,0.018,0.02,0.022,0.024,0.026],\n",
    "                #[0.013,0.014,0.015],\n",
    "                [300,60,900]\n",
    "))\n",
    "runner.columns = ['DIRECTION','THRES_PROF','MODEL','N_TRAIN','TRAIN_THRES','TARGET_TIME']\n",
    "\n",
    "print('brute force runs: ' + str(len(runner)))\n",
    "\n",
    "for i in np.arange(0,runner.shape[0]):\n",
    "    print('#----------------' + str(i))\n",
    "    with open('log_backtest.txt', 'a') as f: f.write('#----------------' + str(i) + ' of ' +str(runner.shape[0]) )\n",
    "    DIRECTION = runner.loc[i,'DIRECTION']\n",
    "    THRES_PROF = runner.loc[i,'THRES_PROF']\n",
    "    TARGET_TIME = runner.loc[i,'TARGET_TIME']\n",
    "    TRAIN_THRES = runner.loc[i,'TRAIN_THRES']\n",
    "    N_TRAIN = runner.loc[i,'N_TRAIN']\n",
    "    N_TRAIN_MIN = 150000\n",
    "    SKIP_TRADE=TARGET_TIME\n",
    "    FEE_BUY=0.002\n",
    "    FEE_SELL=0.002\n",
    "    TYPE=\"classify\"\n",
    "    TRAIN_STRATEGY = \"NONE\"\n",
    "    MODEL=runner.loc[i,'MODEL']\n",
    "    BACKTEST_SPLITS=10\n",
    "    d=prep_data(data,col_target='mid' + str(TARGET_TIME),col_price='mid')\n",
    "    FEATURES = d.filter(regex=('width$|^(imba)|^(adj)|^(tr)|^(t[0-9])|^(agg)|(mid$)')).columns\n",
    "    gc.collect()\n",
    "    try:\n",
    "        test=backtesting(d)\n",
    "        r=eval_model(test,-999)['kpis']\n",
    "        result.append(r)\n",
    "        pd.concat(result).sort_values(\"ROI\",ascending=False).to_csv('models_brute.csv')\n",
    "    except Exception as e: \n",
    "        print(e)\n",
    "        with open('log_backtest.txt', 'a') as f: f.write('#----------------' + str(i) + str(e))\n",
    "\n",
    "pd.concat(result).sort_values('ROI',ascending=False).head(3)\n",
    "'''"
   ]
  },
  {
   "cell_type": "markdown",
   "metadata": {},
   "source": [
    "# TPOT genetic algorithms"
   ]
  },
  {
   "cell_type": "code",
   "execution_count": null,
   "metadata": {
    "collapsed": true
   },
   "outputs": [],
   "source": [
    "'''\n",
    "from tpot import TPOTClassifier\n",
    "TYPE=\"classify\"\n",
    "TRAIN_STRATEGY = \"NONE\"\n",
    "MODEL={'scoring' : 0}\n",
    "THRES_PROF = 0.00402\n",
    "TARGET_TIME = 800\n",
    "TRAIN_THRES=0.012\n",
    "N_TRAIN = 200000\n",
    "\n",
    "d=prep_data(dr)\n",
    "FEATURES = d.filter(regex=('width$|^(imba)|^(adj)|^(tr)|^(t[0-9])|^(agg)|(mid$)')).columns\n",
    "\n",
    "tpot = TPOTClassifier(generations=10, population_size=20, verbosity=2,\n",
    "                      scoring=\"log_loss\",random_state=1,n_jobs=12,cv=TimeSeriesSplit(max_train_size=200000,n_splits=3,))\n",
    "\n",
    "splits=10\n",
    "cv=TimeSeriesSplit(n_splits=splits,max_train_size=400000)\n",
    "i_train, i_test = [i for i in cv.split(d)][splits-1]\n",
    "print(i_test.shape)\n",
    "X=d.iloc[i_train,:]\n",
    "X = X[(X.target >= TRAIN_THRES) | (X.target < THRES_PROF) ]\n",
    "test = d.iloc[i_test,:]\n",
    "\n",
    "tpot.fit(X[FEATURES], X.target_cat)\n",
    "y_pred_prob2 = tpot.predict_proba(test[FEATURES])\n",
    "test['y_pred_prob'] = np.asarray([p[1] for p in y_pred_prob2 ])\n",
    "\n",
    "#tpot.export('tpot_mnist_pipeline.py')\n",
    "#t=tpot.clean_pipeline_string\n",
    "'''\n",
    "tpot.fitted_pipeline_"
   ]
  },
  {
   "cell_type": "markdown",
   "metadata": {},
   "source": [
    "# Keras pipeline"
   ]
  },
  {
   "cell_type": "code",
   "execution_count": null,
   "metadata": {
    "collapsed": true
   },
   "outputs": [],
   "source": [
    "#-----neural network pipe\n",
    "'''\n",
    "from sklearn.model_selection import GridSearchCV\n",
    "from keras.models import Sequential\n",
    "from keras.layers import Dense\n",
    "from keras.layers import Dropout\n",
    "from keras.wrappers.scikit_learn import KerasClassifier\n",
    "from keras.constraints import maxnorm\n",
    "\n",
    "# Function to create model, required for KerasClassifier\n",
    "def create_model(neurons=1):\n",
    "    # create model\n",
    "    model = Sequential()\n",
    "    model.add(Dense(neurons, input_dim=40, kernel_initializer='uniform', activation='linear', kernel_constraint=maxnorm(4)))\n",
    "    model.add(Dropout(0.2))\n",
    "    model.add(Dense(1, kernel_initializer='uniform', activation='relu'))\n",
    "    # Compile model\n",
    "    model.compile(loss='binary_crossentropy', optimizer='adam', metrics=['accuracy'])\n",
    "    return model\n",
    "\n",
    "# fix random seed for reproducibility\n",
    "np.random.seed(0)\n",
    "# create model\n",
    "nnet = KerasClassifier(build_fn=create_model, epochs=100, batch_size=10, verbose=0)\n",
    "\n",
    "pipe=ImbPipe([\n",
    "            ('ft', FunctionTransformer(transform_features,validate=False)),\n",
    "            ('rs', StandardScaler()), \n",
    "            ('nnet',nnet)\n",
    "])\n",
    "\n",
    "# define the grid search parameters\n",
    "params = dict(neurons=[1,2,5])\n",
    "\n",
    "#grid3 = GridSearchCV(estimator=pipe,refit=True,param_grid=params,n_jobs=16,verbose=0,\n",
    "                    cv=TimeSeriesSplit(n_splits=10,),\n",
    "                    scoring=\"log_loss\")\n",
    "'''"
   ]
  },
  {
   "cell_type": "markdown",
   "metadata": {},
   "source": [
    "# New ROI function"
   ]
  },
  {
   "cell_type": "code",
   "execution_count": 132,
   "metadata": {},
   "outputs": [],
   "source": [
    "'''\n",
    "#------------new ROI function\n",
    "roi = [1]\n",
    "last_buy=0\n",
    "last_sell=0\n",
    "for i, y_pred in enumerate(test.y_pred):\n",
    "    add=''\n",
    "    if y_pred == 1 and test.y_pred.values[i-1] == 0:   #'buy'\n",
    "        last_buy = test.price_real.values[i]\n",
    "        add = roi[-1]\n",
    "    if y_pred == 1 and test.y_pred.values[i-1] == 1:  #'hold'\n",
    "        add = roi[-1]\n",
    "    if y_pred == 0 and test.y_pred.values[i-1] == 1:   #'sell'\n",
    "        last_sell = test.price_real.values[i]\n",
    "        add = roi[-1] * last_sell / last_buy\n",
    "    if y_pred == 0 and test.y_pred.values[i-1] == 0:   #'nothing'\n",
    "        add = roi[-1]\n",
    "    roi.append(add)\n",
    "'''"
   ]
  }
 ],
 "metadata": {
  "kernelspec": {
   "display_name": "Python 3",
   "language": "python",
   "name": "python3"
  },
  "language_info": {
   "codemirror_mode": {
    "name": "ipython",
    "version": 3
   },
   "file_extension": ".py",
   "mimetype": "text/x-python",
   "name": "python",
   "nbconvert_exporter": "python",
   "pygments_lexer": "ipython3",
   "version": "3.6.4"
  }
 },
 "nbformat": 4,
 "nbformat_minor": 2
}
