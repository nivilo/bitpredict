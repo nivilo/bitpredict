{
 "cells": [
  {
   "cell_type": "markdown",
   "metadata": {},
   "source": [
    "# Install packages"
   ]
  },
  {
   "cell_type": "code",
   "execution_count": null,
   "metadata": {
    "collapsed": true
   },
   "outputs": [],
   "source": [
    "#----install stuff\n",
    "!pip install mlxtend\n",
    "!pip install -U imbalanced-learn\n",
    "!python ../../software/python-glmnet/setup.py\n",
    "!conda install -c conda-forge tensorflow\n",
    "!conda install -c conda-forge keras"
   ]
  },
  {
   "cell_type": "markdown",
   "metadata": {},
   "source": [
    "# Import"
   ]
  },
  {
   "cell_type": "code",
   "execution_count": 76,
   "metadata": {},
   "outputs": [],
   "source": [
    "from funcs_general import *\n",
    "pd.options.mode.chained_assignment = None"
   ]
  },
  {
   "cell_type": "markdown",
   "metadata": {},
   "source": [
    "# Model and evaluation"
   ]
  },
  {
   "cell_type": "code",
   "execution_count": 12,
   "metadata": {
    "collapsed": true
   },
   "outputs": [],
   "source": [
    "from funcs_general import *\n",
    "\n",
    "# ---------------- import\n",
    "from sklearn import base\n",
    "from sklearn.model_selection import TimeSeriesSplit\n",
    "from sklearn.pipeline import Pipeline\n",
    "from sklearn.pipeline import make_pipeline\n",
    "from sklearn.model_selection import GridSearchCV\n",
    "\n",
    "from sklearn.decomposition import PCA\n",
    "from sklearn.preprocessing import StandardScaler\n",
    "from sklearn.preprocessing import LabelEncoder\n",
    "from sklearn.preprocessing import PolynomialFeatures\n",
    "from sklearn.preprocessing import RobustScaler\n",
    "from sklearn.preprocessing import FunctionTransformer\n",
    "\n",
    "from sklearn.metrics import confusion_matrix\n",
    "from sklearn.metrics import classification_report\n",
    "from sklearn.metrics import auc, roc_auc_score\n",
    "from sklearn.metrics import precision_score\n",
    "from sklearn.metrics import make_scorer\n",
    "from sklearn.metrics import precision_recall_curve\n",
    "\n",
    "# models\n",
    "from sklearn.neighbors import KNeighborsRegressor\n",
    "from sklearn.linear_model import ElasticNet\n",
    "from sklearn.linear_model import BayesianRidge\n",
    "from sklearn.linear_model import RidgeClassifier\n",
    "from sklearn.linear_model import LogisticRegression\n",
    "from sklearn.linear_model import LinearRegression\n",
    "from sklearn.naive_bayes import GaussianNB \n",
    "from sklearn.neighbors import KNeighborsClassifier\n",
    "from sklearn.ensemble import AdaBoostClassifier\n",
    "from sklearn.ensemble import ExtraTreesClassifier\n",
    "from sklearn.ensemble import RandomForestClassifier\n",
    "from sklearn.ensemble import GradientBoostingClassifier\n",
    "from sklearn.linear_model import LogisticRegression\n",
    "from sklearn.calibration import CalibratedClassifierCV\n",
    "\n",
    "from sklearn.feature_selection import RFECV\n",
    "from mlxtend.classifier import StackingClassifier\n",
    "from mlxtend.classifier import StackingCVClassifier\n",
    "from mlxtend.feature_selection import SequentialFeatureSelector as SFS\n",
    "from mlxtend.feature_selection import ColumnSelector\n",
    "from sklearn.preprocessing import FunctionTransformer\n",
    "\n",
    "#from glmnet import LogitNet\n",
    "from imblearn.combine import SMOTEENN\n",
    "from imblearn.over_sampling import SMOTE  \n",
    "from imblearn.pipeline import Pipeline as ImbPipe\n",
    "\n",
    "#from xgboost import XGBRegressor\n",
    "\n",
    "\n",
    "def PowLog(X):\n",
    "    X=pd.DataFrame(X)\n",
    "    Xpow=X.apply(lambda row: np.power(row,2), axis=1)\n",
    "    X = pd.concat([X, Xpow], axis=1)\n",
    "    return X\n",
    "    \n",
    "FeaturePowLog = FunctionTransformer(PowLog)\n",
    "\n",
    "\n",
    "#--------calculate fees\n",
    "def get_fees(returns,FEE_BUY,FEE_SELL):\n",
    "    returns=np.array(returns)\n",
    "    v=np.repeat(0.0,len(returns))\n",
    "    for i in np.arange(len(returns)):\n",
    "        if returns[i] != 1: v[i] = (returns[i] * FEE_BUY + returns[i] * FEE_SELL)\n",
    "    return v\n",
    "\n",
    "#-----calculate ROI depending on cutoff value\n",
    "def get_ROI(test,y_pred,strategy=\"reinvest\"):\n",
    "    \n",
    "    \n",
    "    test['y_pred'] = y_pred\n",
    "    test['return'] = 1.0\n",
    "    test.loc[test.y_pred == 1,'return']  = test.loc[test.y_pred == 1,'target'] + 1\n",
    "    \n",
    "    test['lags'] = np.concatenate((np.array([0.0]),np.diff(np.array(test.timstamp), n=1, axis=-1)), axis=0)\n",
    "    test['trade'] = test['y_pred']\n",
    "    \n",
    "    if (SKIP_TRADE > 0) : \n",
    "        test['trade']  = skip_trades(test['trade'].values,test['lags'].values,SKIP_TRADE)\n",
    "        test.loc[test.trade == 0,'return']  = 1\n",
    "        \n",
    "    if (strategy==\"reinvest\"):\n",
    "        test['fees'] = get_fees(test['return'],FEE_BUY,FEE_SELL)  \n",
    "        test['return_cum'] = np.cumprod(np.array(test['return']) - np.array(test['fees']) )\n",
    "        #test['return_cum']=test['return_cum'] - test['fees'] \n",
    "        \n",
    "    if (strategy==\"fixed\") : \n",
    "        test['return_cum'] = 1 + np.cumsum(test['return'].values - 1)\n",
    "        test['fees'] = np.where(test['return'] != 1,(FEE_BUY+FEE_SELL),0)\n",
    "    \n",
    "    ROI = float(test['return_cum'].tail(1))\n",
    "    fees = sum(test['fees'])\n",
    "    \n",
    "    trades = sum(test['trade'])\n",
    "    days = (float(test.timstamp.tail(1)) - float(test.timstamp.head(1))) / 3600 / 24\n",
    "    \n",
    "    out=pd.DataFrame({'ROI': [ROI], 'ROI_bench' : test.mid.values[-1:] / test.mid.values[0],\n",
    "                      'ROI_day' : [ROI/days],\n",
    "                      'trades' : [trades], 'days' : [days], 'strategy' : [strategy] })\n",
    "    return  {'kpis' : out, 'data' : test}\n",
    "\n",
    "\n",
    "#------once traded, wait until previous trade was completed. Skip test cases until gap > time_future\n",
    "def skip_trades(trade,lags,seconds):\n",
    "  \n",
    "    counter=[0.0]\n",
    "    counting = False\n",
    "\n",
    "    for i in np.arange(len(trade)):\n",
    "\n",
    "        # set value to 1\n",
    "        if counting == True:\n",
    "            trade[i] = 0\n",
    "            counter.append(lags[i])\n",
    "\n",
    "        # ON\n",
    "        if trade[i] ==1: counting = True\n",
    "\n",
    "        # OFF\n",
    "        if sum(counter) > seconds:\n",
    "            counter=[0.0]\n",
    "            counting = False\n",
    "\n",
    "    return trade\n",
    "\n",
    "#-----optimization: find best cutoff for max ROI\n",
    "from scipy.optimize import minimize_scalar\n",
    "\n",
    "def find_opt_ROI(cutoff):\n",
    "    y_pred=np.where(test.y_pred_prob >= cutoff, 1,0) \n",
    "    obj_ROI = get_ROI(test,y_pred,strategy=\"reinvest\")\n",
    "    roi=float(obj_ROI['kpis']['ROI'].values)\n",
    "    if (roi < 0) : roi = 0.0001\n",
    "    return float(-roi)\n",
    "\n",
    "\n",
    "import itertools\n",
    "def expandgrid(*itrs):\n",
    "   product = list(itertools.product(*itrs))\n",
    "   return {'Var{}'.format(i+1):[x[i] for x in product] for i in range(len(itrs))}\n",
    "\n",
    "def eval_model(test,cutoff):\n",
    "\n",
    "    if TYPE == \"classify\": bounds=(0,1)\n",
    "    if TYPE == \"regression\": bounds=(0,0.015)\n",
    "    \n",
    "    if cutoff < 0:\n",
    "        best_cutoff=minimize_scalar(find_opt_ROI,bounds=bounds, method='bounded',options={'maxiter' : 500000})\n",
    "        cutoff=best_cutoff['x']\n",
    "    \n",
    "    y_pred=np.where(test.y_pred_prob.values >= cutoff, 1,0) \n",
    "    if hasattr(MODEL,'scoring'): model_scoring = MODEL.scoring\n",
    "    else: model_scoring = None\n",
    "    \n",
    "    \n",
    "    obj_ROI = get_ROI(test,y_pred,strategy=\"reinvest\")\n",
    "    obj_ROI['kpis']['max_trades'] = confusion_matrix(test.target_cat, y_pred)[1,0]\n",
    "    obj_ROI['kpis']['days_trading'] = len(set([str(datetime.fromtimestamp(e).date()) for e in test.iloc[np.where(y_pred == 1)[0],:]['timstamp'].values]))\n",
    "    obj_ROI['kpis']['cutoff'] = cutoff\n",
    "    obj_ROI['kpis']['precision'] = precision_score(test.target_cat,y_pred,pos_label=1)\n",
    "    obj_ROI['kpis']['DIRECTION'] = DIRECTION\n",
    "    obj_ROI['kpis']['THRES_PROF'] = THRES_PROF\n",
    "    obj_ROI['kpis']['TARGET_TIME']=TARGET_TIME\n",
    "    obj_ROI['kpis']['TRAIN_THRES']=TRAIN_THRES\n",
    "    obj_ROI['kpis']['N_TRAIN']=N_TRAIN\n",
    "    obj_ROI['kpis']['MODEL_SCORER'] = model_scoring\n",
    "    obj_ROI['kpis']['TYPE']=TYPE\n",
    "    o=obj_ROI['data']\n",
    "    #o.loc[o['trade']==1,o.columns[-9:]]\n",
    "    return obj_ROI\n",
    "\n",
    "from sklearn.metrics import make_scorer\n",
    "\n",
    "#-----------precision custom scorer\n",
    "def custom_precision(y_true,probas_pred): \n",
    "    pos_label=1\n",
    "    precision, recall, _ = precision_recall_curve(y_true,probas_pred,pos_label=pos_label)\n",
    "    cut = np.where(precision >= 0.5)[0]\n",
    "    if len(cut) <= 1: area = 0\n",
    "    else: area = auc(recall[cut], precision[cut])\n",
    "    area = auc(recall, precision)\n",
    "    return area\n",
    "\n",
    "def custom_precision_wrapper(y_true,probas_pred):\n",
    "    return custom_precision(y_true,probas_pred[:, 1])\n",
    "\n",
    "#------MAXIMIZE: bigger is better!\n",
    "score_custom_precision = make_scorer(custom_precision_wrapper,greater_is_better=True,needs_proba=True)\n",
    "\n",
    "#------------custom regression scorers\n",
    "\n",
    "def custom_score_regression1(y_true,y_pred): \n",
    "    \n",
    "    y_pred=np.array(y_pred)\n",
    "    y_true=np.array(y_true)\n",
    "    \n",
    "    #  money \n",
    "    i_in = np.where(y_true >= THRES_PROF)[0]\n",
    "    i_out = np.where(y_true < THRES_PROF)[0]\n",
    "    \n",
    "    \n",
    "    # >= 0.0042 in the money\n",
    "    list_i = []\n",
    "    for i in i_in:\n",
    "        if y_pred[i] >= y_true[i]: list_i.append( (y_pred[i]- y_true[i]) * 1 )\n",
    "        if y_pred[i] < y_true[i]: list_i.append( (y_true[i]- y_pred[i] ) * 0 )\n",
    "    \n",
    "    # < 0.0042 out of money \n",
    "    for i in i_out:\n",
    "        if y_pred[i] >= THRES_PROF: list_i.append( abs(y_pred[i] - y_true[i]) * 10 )\n",
    "        if y_pred[i] < THRES_PROF: list_i.append(0)\n",
    "    \n",
    "    out = sum(np.array(list_i)) / (len(i_in))\n",
    "    print('in, out, score: ',len(i_in), len(i_out) ,out)\n",
    "    \n",
    "    return out\n",
    "\n",
    "def custom_score_regression2(y_true,y_pred): \n",
    "    \n",
    "    \n",
    "    THRES=TRAIN_THRES\n",
    "    \n",
    "    y_pred=np.array(y_pred)\n",
    "    y_true=np.array(y_true)\n",
    "    \n",
    "    # punish false positives\n",
    "    i_wrong = np.where((y_pred > THRES) & (y_true <= THRES))[0]\n",
    "    wrong = y_true[i_wrong] - THRES\n",
    "    wrong = abs(wrong * 3)\n",
    "    loss1 = np.sum(wrong)\n",
    "    av_loss1 = loss1/len(wrong)\n",
    "    \n",
    "    # punish false negatives\n",
    "    i_missed = np.where((y_pred < THRES) & (y_true >= THRES))[0]\n",
    "    missed = y_true[i_missed] - THRES\n",
    "    missed = abs(missed)\n",
    "    loss2 = np.sum(missed * 2)\n",
    "    av_loss2 = loss2/len(missed)\n",
    "    \n",
    "    out=np.nansum([av_loss1,av_loss2])\n",
    "    \n",
    "    print(len(wrong), len(missed), out)\n",
    "    return out\n",
    "\n",
    "\n",
    "#------MINIMIZE: smaller is better!\n",
    "score_custom_regression = make_scorer(custom_score_regression2,greater_is_better=False)\n",
    "\n",
    "#custom_score_regression(test.target.values,test.y_pred_prob)"
   ]
  },
  {
   "cell_type": "markdown",
   "metadata": {},
   "source": [
    "# Feature transformers"
   ]
  },
  {
   "cell_type": "code",
   "execution_count": 13,
   "metadata": {
    "collapsed": true
   },
   "outputs": [],
   "source": [
    "def transform_features(X):\n",
    "    # feature transformation: take sqrt of count data\n",
    "    for e in X.filter(regex=('count$')).columns: X[e] = np.sqrt(X[e] )\n",
    "    return X"
   ]
  },
  {
   "cell_type": "markdown",
   "metadata": {},
   "source": [
    "# Classification pipeline"
   ]
  },
  {
   "cell_type": "code",
   "execution_count": 35,
   "metadata": {},
   "outputs": [],
   "source": [
    "#--------classification pipe\n",
    "sm=SMOTEENN(random_state=1,ratio='minority')\n",
    "sm=SMOTE(random_state=1,ratio='minority')\n",
    "#clf2=LogitNet(fit_intercept=True,alpha=0,n_splits=3,n_jobs=1, scoring=score_custom_precision)\n",
    "#fsel=RFECV(clf1,step=1, cv=TimeSeriesSplit(n_splits=2), scoring=\"log_loss\", verbose=0, n_jobs=1)\n",
    "pipe=ImbPipe([\n",
    "            ('ft', FunctionTransformer(transform_features,validate=False)),\n",
    "            ('rs', StandardScaler()), \n",
    "            ('pca',PCA()),\n",
    "            #('fs', fsel), \n",
    "            ('sm', sm), \n",
    "            ('clf1',LogisticRegression(fit_intercept=True,C=0.001))\n",
    "            ])\n",
    "params = {\n",
    "          'clf1__C': [0.0001,0.0005,0.001,0.003,0.005,0.01,0.05],\n",
    "            'clf1__penalty': ['l1']\n",
    "         }\n",
    "grid1 = GridSearchCV(estimator=pipe,refit=True,param_grid=params,n_jobs=16,verbose=0,\n",
    "                    cv=TimeSeriesSplit(n_splits=2),\n",
    "                    scoring=\"log_loss\")\n",
    "grid2 = GridSearchCV(estimator=pipe,refit=True,param_grid=params,n_jobs=16,verbose=0,\n",
    "                    cv=TimeSeriesSplit(n_splits=2),\n",
    "                    scoring=score_custom_precision)"
   ]
  },
  {
   "cell_type": "markdown",
   "metadata": {},
   "source": [
    "# Backtesting function rolling window timeseries"
   ]
  },
  {
   "cell_type": "code",
   "execution_count": 15,
   "metadata": {
    "collapsed": true
   },
   "outputs": [],
   "source": [
    "import warnings\n",
    "warnings.filterwarnings(\"ignore\")\n",
    "\n",
    "def backtesting(d):\n",
    "    gc.collect()\n",
    "    cv=TimeSeriesSplit(n_splits=BACKTEST_SPLITS,max_train_size=N_TRAIN_MIN)\n",
    "    test_list = []\n",
    "    best_params=[]\n",
    "    for i in cv.split(d):\n",
    "        \n",
    "        i_train, i_test = i\n",
    "        print(len(i_train))\n",
    "        \n",
    "        if (len(i_train) >= N_TRAIN_MIN):\n",
    "            \n",
    "            # Set training N\n",
    "            i_train = i_train[-N_TRAIN:] \n",
    "            X=d.iloc[i_train,:]\n",
    "            X = X[(X.target >= TRAIN_THRES) | (X.target < THRES_PROF) ] \n",
    "            \n",
    "            target_freq = np.sum(X.target_cat) / N_TRAIN * 2\n",
    "            #new=d.iloc[0:i_train[0],:]\n",
    "            #new=new[(new.target >= TRAIN_THRES)]\n",
    "            #X = new.append(X)\n",
    "            \n",
    "            print(i_test[0],i_test[-1:],sum(X.target_cat),sum(X.target_cat)/X.shape[0])\n",
    "            \n",
    "            if TYPE == \"classify\": y= X.target_cat    \n",
    "            if TYPE == \"regression\": y= X.target\n",
    "                \n",
    "            X=X.loc[:,FEATURES]\n",
    "            test=d.iloc[i[1],:]\n",
    "\n",
    "            MODEL.fit(X,y)\n",
    "\n",
    "            if (hasattr(MODEL,'best_estimator_')) == True: PREDICTOR = MODEL.best_estimator_\n",
    "            if (hasattr(MODEL,'best_estimator_')) == False: PREDICTOR = MODEL\n",
    "\n",
    "            if TYPE == \"classify\":\n",
    "                y_pred_prob2=PREDICTOR.predict_proba(test.loc[:,FEATURES])\n",
    "                test['y_pred_prob'] = np.asarray([p[1] for p in y_pred_prob2 ])\n",
    "\n",
    "            if TYPE == \"regression\":\n",
    "                test['y_pred_prob'] = PREDICTOR.predict(test.loc[:,FEATURES])\n",
    "\n",
    "            if (hasattr(MODEL,'best_estimator_')):\n",
    "                best_params.append(MODEL.best_params_)\n",
    "                print(MODEL.best_params_, MODEL.best_score_)\n",
    "\n",
    "            test_list.append(test)\n",
    "\n",
    "    test = pd.concat(test_list)\n",
    "    return test"
   ]
  },
  {
   "cell_type": "markdown",
   "metadata": {},
   "source": [
    "# Data prep"
   ]
  },
  {
   "cell_type": "code",
   "execution_count": 5,
   "metadata": {
    "collapsed": true
   },
   "outputs": [],
   "source": [
    "def prep_data(data):\n",
    "    target = 'mid' + str(TARGET_TIME)\n",
    "    d=dr.dropna(subset=[target])\n",
    "    d['target'] = d[target]\n",
    "    if DIRECTION == \"short\": d['target'] = -1 * d['target'] \n",
    "    d['target_cat'] = np.where(d['target'] >= THRES_PROF, 1,0)\n",
    "    return d"
   ]
  },
  {
   "cell_type": "code",
   "execution_count": 6,
   "metadata": {
    "collapsed": true
   },
   "outputs": [],
   "source": [
    "# -------load data\n",
    "dr=pd.read_csv(\"training_data/bitfinex_btcusd.csv.gz\")\n",
    "DAYS=ma.ceil((dr.timstamp[-1:] - dr.timstamp[1])/3600/24)"
   ]
  },
  {
   "cell_type": "code",
   "execution_count": 16,
   "metadata": {},
   "outputs": [
    {
     "name": "stdout",
     "output_type": "stream",
     "text": [
      "(463165, 35)\n",
      "19\n"
     ]
    }
   ],
   "source": [
    "dr.columns\n",
    "print(dr.shape)\n",
    "print(DAYS)"
   ]
  },
  {
   "cell_type": "markdown",
   "metadata": {},
   "source": [
    "# Brute force test thresholds for data selection"
   ]
  },
  {
   "cell_type": "code",
   "execution_count": null,
   "metadata": {
    "collapsed": true
   },
   "outputs": [],
   "source": [
    "result=[]\n",
    "runner=pd.DataFrame(expandgrid(\n",
    "                ['long'],\n",
    "                [0.004081],\n",
    "                [pipe],\n",
    "                [100000,150000],\n",
    "                [0.0042,0.006,0.007,0.008,0.009,0.01,0.012,0.014,0.016,0.018,0.02,0.022,0.024,0.026],\n",
    "                #[0.013,0.014,0.015],\n",
    "                [300,60,900]\n",
    "))\n",
    "runner.columns = ['DIRECTION','THRES_PROF','MODEL','N_TRAIN','TRAIN_THRES','TARGET_TIME']\n",
    "\n",
    "print('brute force runs: ' + str(len(runner)))\n",
    "\n",
    "for i in np.arange(0,runner.shape[0]):\n",
    "    print('#----------------' + str(i))\n",
    "    with open('log_backtest.txt', 'a') as f: f.write('#----------------' + str(i) + ' of ' +str(runner.shape[0]) )\n",
    "    DIRECTION = runner.loc[i,'DIRECTION']\n",
    "    THRES_PROF = runner.loc[i,'THRES_PROF']\n",
    "    TARGET_TIME = runner.loc[i,'TARGET_TIME']\n",
    "    TRAIN_THRES = runner.loc[i,'TRAIN_THRES']\n",
    "    N_TRAIN = runner.loc[i,'N_TRAIN']\n",
    "    N_TRAIN_MIN = 150000\n",
    "    SKIP_TRADE=TARGET_TIME\n",
    "    FEE_BUY=0.002\n",
    "    FEE_SELL=0.002\n",
    "    TYPE=\"classify\"\n",
    "    TRAIN_STRATEGY = \"NONE\"\n",
    "    MODEL=runner.loc[i,'MODEL']\n",
    "    BACKTEST_SPLITS=10\n",
    "    d=prep_data(dr)\n",
    "    FEATURES = d.filter(regex=('width$|^(imba)|^(adj)|^(tr)|^(t[0-9])|^(agg)|(mid$)')).columns\n",
    "    gc.collect()\n",
    "    try:\n",
    "        test=backtesting(d)\n",
    "        r=eval_model(test,-999)['kpis']\n",
    "        result.append(r)\n",
    "        pd.concat(result).sort_values(\"ROI\",ascending=False).to_csv('models_brute.csv')\n",
    "    except Exception as e: \n",
    "        print(e)\n",
    "        with open('log_backtest.txt', 'a') as f: f.write('#----------------' + str(i) + str(e))"
   ]
  },
  {
   "cell_type": "code",
   "execution_count": null,
   "metadata": {},
   "outputs": [],
   "source": [
    "pd.concat(result).sort_values('ROI',ascending=False).head(3)"
   ]
  },
  {
   "cell_type": "markdown",
   "metadata": {},
   "source": [
    "# Selected model"
   ]
  },
  {
   "cell_type": "code",
   "execution_count": 79,
   "metadata": {},
   "outputs": [
    {
     "name": "stdout",
     "output_type": "stream",
     "text": [
      "22058\n",
      "44098\n",
      "66138\n",
      "88178\n",
      "110218\n",
      "132258\n",
      "150000\n",
      "154298 [176337] 4321 0.0288205005069\n",
      "150000\n",
      "176338 [198377] 3741 0.0249521433764\n",
      "150000\n",
      "198378 [220417] 4422 0.0294957310566\n",
      "150000\n",
      "220418 [242457] 4608 0.0307374178701\n",
      "150000\n",
      "242458 [264497] 5496 0.0366602853579\n",
      "150000\n",
      "264498 [286537] 7280 0.0485627947622\n",
      "150000\n",
      "286538 [308577] 8737 0.0582898011195\n",
      "150000\n",
      "308578 [330617] 9434 0.0629483081892\n",
      "150000\n",
      "330618 [352657] 9698 0.064710710163\n",
      "150000\n",
      "352658 [374697] 8635 0.0576131412673\n",
      "150000\n",
      "374698 [396737] 8086 0.0539476668935\n",
      "150000\n",
      "396738 [418777] 10803 0.0720714109398\n",
      "150000\n",
      "418778 [440817] 13777 0.0919011947089\n"
     ]
    }
   ],
   "source": [
    "#--------------BACKTESTING\n",
    "DIRECTION = 'long'\n",
    "THRES_PROF = 0.004081\n",
    "TARGET_TIME = 120\n",
    "TRAIN_THRES=0.0041\n",
    "N_TRAIN = 150000\n",
    "N_TRAIN_MIN = 150000\n",
    "N_WINDOW_MIN = 150000\n",
    "SKIP_TRADE=TARGET_TIME\n",
    "TYPE=\"classify\"\n",
    "TRAIN_STRATEGY = \"NONE\"\n",
    "MODEL=pipe\n",
    "BACKTEST_SPLITS=19\n",
    "d=prep_data(dr)\n",
    "FEATURES = d.filter(regex=('width$|^(imba)|^(adj)|^(tr)|^(t[0-9])|^(agg)|(mid$)')).columns\n",
    "test=backtesting(d)"
   ]
  },
  {
   "cell_type": "code",
   "execution_count": 78,
   "metadata": {},
   "outputs": [
    {
     "name": "stdout",
     "output_type": "stream",
     "text": [
      "        ROI  ROI_bench   ROI_day       days  strategy  trades  max_trades  \\\n",
      "0  1.175559   0.656227  0.099043  11.869212  reinvest     116       23321   \n",
      "\n",
      "   days_trading  cutoff  precision DIRECTION  THRES_PROF  TARGET_TIME  \\\n",
      "0             5    0.99    0.43151      long    0.004081          120   \n",
      "\n",
      "   TRAIN_THRES  N_TRAIN MODEL_SCORER      TYPE  \n",
      "0       0.0041   150000         None  classify  \n"
     ]
    },
    {
     "data": {
      "image/png": "[encoded data removed]",
      "text/plain": [
       "<matplotlib.figure.Figure at 0x7fb99f0157b8>"
      ]
     },
     "metadata": {},
     "output_type": "display_data"
    },
    {
     "data": {
      "text/plain": [
       "<ggplot: (8777364135779)>"
      ]
     },
     "execution_count": 78,
     "metadata": {},
     "output_type": "execute_result"
    }
   ],
   "source": [
    "FEE_BUY=0\n",
    "FEE_SELL=0\n",
    "#eval_model(test,-999)['kpis']\n",
    "kpi_obj=eval_model(test,0.99)\n",
    "kpi_data = kpi_obj['data']\n",
    "kpi_data['time'] = [datetime.fromtimestamp(e) for e in kpi_data.timstamp.values]\n",
    "print(kpi_obj['kpis'])\n",
    "from ggplot import *\n",
    "p=ggplot(aes(x='time', y='return_cum'), data=kpi_data) #[kpi_data['return'] != 1.0]\n",
    "p + geom_line()"
   ]
  },
  {
   "cell_type": "markdown",
   "metadata": {},
   "source": [
    "# TPOT genetic algorithms"
   ]
  },
  {
   "cell_type": "code",
   "execution_count": null,
   "metadata": {
    "collapsed": true
   },
   "outputs": [],
   "source": [
    "'''\n",
    "from tpot import TPOTClassifier\n",
    "TYPE=\"classify\"\n",
    "TRAIN_STRATEGY = \"NONE\"\n",
    "MODEL={'scoring' : 0}\n",
    "THRES_PROF = 0.00402\n",
    "TARGET_TIME = 800\n",
    "TRAIN_THRES=0.012\n",
    "N_TRAIN = 200000\n",
    "\n",
    "d=prep_data(dr)\n",
    "FEATURES = d.filter(regex=('width$|^(imba)|^(adj)|^(tr)|^(t[0-9])|^(agg)|(mid$)')).columns\n",
    "\n",
    "tpot = TPOTClassifier(generations=10, population_size=20, verbosity=2,\n",
    "                      scoring=\"log_loss\",random_state=1,n_jobs=12,cv=TimeSeriesSplit(max_train_size=200000,n_splits=3,))\n",
    "\n",
    "splits=10\n",
    "cv=TimeSeriesSplit(n_splits=splits,max_train_size=400000)\n",
    "i_train, i_test = [i for i in cv.split(d)][splits-1]\n",
    "print(i_test.shape)\n",
    "X=d.iloc[i_train,:]\n",
    "X = X[(X.target >= TRAIN_THRES) | (X.target < THRES_PROF) ]\n",
    "test = d.iloc[i_test,:]\n",
    "\n",
    "tpot.fit(X[FEATURES], X.target_cat)\n",
    "y_pred_prob2 = tpot.predict_proba(test[FEATURES])\n",
    "test['y_pred_prob'] = np.asarray([p[1] for p in y_pred_prob2 ])\n",
    "\n",
    "#tpot.export('tpot_mnist_pipeline.py')\n",
    "#t=tpot.clean_pipeline_string\n",
    "'''\n",
    "tpot.fitted_pipeline_"
   ]
  },
  {
   "cell_type": "markdown",
   "metadata": {},
   "source": [
    "# Regression pipeline (imbalanced)"
   ]
  },
  {
   "cell_type": "code",
   "execution_count": null,
   "metadata": {},
   "outputs": [],
   "source": [
    "'''\n",
    "#--------regression pipe\n",
    "pipe=ImbPipe([\n",
    "            ('ft', FunctionTransformer(transform_features,validate=False)),\n",
    "            ('rs', StandardScaler()), \n",
    "            ('pca',PCA()),\n",
    "            ('enet',ElasticNet(random_state=1,alpha=0.001,l1_ratio=0))\n",
    "])\n",
    "\n",
    "params = {\n",
    "          'enet__alpha': [0.001,0.005,0.01],\n",
    "         'enet__l1_ratio': [0,0.001,0.01]\n",
    "         }\n",
    "grid0 = GridSearchCV(estimator=pipe,refit=True,param_grid=params,n_jobs=16,verbose=0,\n",
    "                    cv=TimeSeriesSplit(n_splits=2),\n",
    "                    scoring=score_custom_regression)\n",
    "'''"
   ]
  },
  {
   "cell_type": "markdown",
   "metadata": {},
   "source": [
    "# Keras pipeline"
   ]
  },
  {
   "cell_type": "code",
   "execution_count": null,
   "metadata": {
    "collapsed": true
   },
   "outputs": [],
   "source": [
    "#-----neural network pipe\n",
    "'''\n",
    "from sklearn.model_selection import GridSearchCV\n",
    "from keras.models import Sequential\n",
    "from keras.layers import Dense\n",
    "from keras.layers import Dropout\n",
    "from keras.wrappers.scikit_learn import KerasClassifier\n",
    "from keras.constraints import maxnorm\n",
    "\n",
    "# Function to create model, required for KerasClassifier\n",
    "def create_model(neurons=1):\n",
    "    # create model\n",
    "    model = Sequential()\n",
    "    model.add(Dense(neurons, input_dim=40, kernel_initializer='uniform', activation='linear', kernel_constraint=maxnorm(4)))\n",
    "    model.add(Dropout(0.2))\n",
    "    model.add(Dense(1, kernel_initializer='uniform', activation='relu'))\n",
    "    # Compile model\n",
    "    model.compile(loss='binary_crossentropy', optimizer='adam', metrics=['accuracy'])\n",
    "    return model\n",
    "\n",
    "# fix random seed for reproducibility\n",
    "np.random.seed(0)\n",
    "# create model\n",
    "nnet = KerasClassifier(build_fn=create_model, epochs=100, batch_size=10, verbose=0)\n",
    "\n",
    "pipe=ImbPipe([\n",
    "            ('ft', FunctionTransformer(transform_features,validate=False)),\n",
    "            ('rs', StandardScaler()), \n",
    "            ('nnet',nnet)\n",
    "])\n",
    "\n",
    "# define the grid search parameters\n",
    "params = dict(neurons=[1,2,5])\n",
    "\n",
    "#grid3 = GridSearchCV(estimator=pipe,refit=True,param_grid=params,n_jobs=16,verbose=0,\n",
    "                    cv=TimeSeriesSplit(n_splits=2),\n",
    "                    scoring=\"log_loss\")\n",
    "'''"
   ]
  }
 ],
 "metadata": {
  "kernelspec": {
   "display_name": "Python 3",
   "language": "python",
   "name": "python3"
  },
  "language_info": {
   "codemirror_mode": {
    "name": "ipython",
    "version": 3
   },
   "file_extension": ".py",
   "mimetype": "text/x-python",
   "name": "python",
   "nbconvert_exporter": "python",
   "pygments_lexer": "ipython3",
   "version": "3.6.3"
  }
 },
 "nbformat": 4,
 "nbformat_minor": 2
}
