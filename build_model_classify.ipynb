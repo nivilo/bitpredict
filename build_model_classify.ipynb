{
 "cells": [
  {
   "cell_type": "markdown",
   "metadata": {},
   "source": [
    "# Install packages"
   ]
  },
  {
   "cell_type": "code",
   "execution_count": null,
   "metadata": {
    "collapsed": true
   },
   "outputs": [],
   "source": [
    "#----install stuff\n",
    "!pip install mlxtend\n",
    "!pip install -U imbalanced-learn\n",
    "!python ../../software/python-glmnet/setup.py\n",
    "!conda install -c conda-forge tensorflow\n",
    "!conda install -c conda-forge keras"
   ]
  },
  {
   "cell_type": "markdown",
   "metadata": {},
   "source": [
    "# Import"
   ]
  },
  {
   "cell_type": "code",
   "execution_count": 11,
   "metadata": {
    "collapsed": true
   },
   "outputs": [],
   "source": [
    "from __init__ import *\n",
    "from funcs_model import *"
   ]
  },
  {
   "cell_type": "markdown",
   "metadata": {},
   "source": [
    "# Feature transformers"
   ]
  },
  {
   "cell_type": "code",
   "execution_count": 12,
   "metadata": {
    "collapsed": true
   },
   "outputs": [],
   "source": [
    "def transform_features(X):\n",
    "    # feature transformation: take sqrt of count data\n",
    "    for e in X.filter(regex=('count$')).columns: X[e] = np.sqrt(X[e] )\n",
    "    return X"
   ]
  },
  {
   "cell_type": "markdown",
   "metadata": {},
   "source": [
    "# Classification pipeline"
   ]
  },
  {
   "cell_type": "code",
   "execution_count": 13,
   "metadata": {
    "collapsed": true
   },
   "outputs": [],
   "source": [
    "#--------classification pipe\n",
    "sm=SMOTEENN(random_state=1,ratio='minority')\n",
    "sm=SMOTE(random_state=1,ratio='minority')\n",
    "#clf2=LogitNet(fit_intercept=True,alpha=0,n_splits=3,n_jobs=1, scoring=score_custom_precision)\n",
    "#fsel=RFECV(clf1,step=1, cv=TimeSeriesSplit(n_splits=2), scoring=\"log_loss\", verbose=0, n_jobs=1)\n",
    "pipe=ImbPipe([\n",
    "            ('ft', FunctionTransformer(transform_features,validate=False)),\n",
    "            ('rs', RobustScaler()), \n",
    "            ('pca',PCA()),\n",
    "            #('fs', fsel), \n",
    "            ('sm', sm), \n",
    "            ('clf1',LogisticRegression(fit_intercept=True,C=0.001))\n",
    "            ])\n",
    "params = {\n",
    "          'clf1__C': [0.0001,0.001,0.005,0.01,0.05],\n",
    "            'clf1__penalty': ['l1']\n",
    "         }\n",
    "grid1 = GridSearchCV(estimator=pipe,refit=True,param_grid=params,n_jobs=16,verbose=0,\n",
    "                    cv=TimeSeriesSplit(n_splits=2),\n",
    "                    scoring=\"log_loss\")\n",
    "grid2 = GridSearchCV(estimator=pipe,refit=True,param_grid=params,n_jobs=16,verbose=0,\n",
    "                    cv=TimeSeriesSplit(n_splits=2),\n",
    "                    scoring=score_custom_precision)"
   ]
  },
  {
   "cell_type": "markdown",
   "metadata": {},
   "source": [
    "# Data prep"
   ]
  },
  {
   "cell_type": "code",
   "execution_count": 14,
   "metadata": {
    "collapsed": true
   },
   "outputs": [],
   "source": [
    "def prep_data(data,col_target,col_price,P):\n",
    "    d=data\n",
    "    d['price_real'] = d[col_price]\n",
    "    d['target'] = d[col_target]\n",
    "    d=data.dropna(subset=[col_target])\n",
    "    if P['DIRECTION'] == \"short\": d['target'] = -1 * d['target'] \n",
    "    d['target_cat'] = np.where(d['target'] >= P['THRES_PROF'], 1,0)\n",
    "    return d"
   ]
  },
  {
   "cell_type": "code",
   "execution_count": 15,
   "metadata": {},
   "outputs": [
    {
     "name": "stdout",
     "output_type": "stream",
     "text": [
      "............shape dataset: (1523154, 35)\n",
      "............days in datase: 55\n"
     ]
    }
   ],
   "source": [
    "# -------load data\n",
    "data=pd.read_csv(\"training_data/bitfinex_btcusd.csv.gz\")\n",
    "DAYS=ma.ceil((data.timstamp[-1:] - data.timstamp[1])/3600/24)\n",
    "print('............shape dataset:', data.shape)\n",
    "print('............days in datase:', DAYS)"
   ]
  },
  {
   "cell_type": "markdown",
   "metadata": {},
   "source": [
    "# Brute force test thresholds for data selection"
   ]
  },
  {
   "cell_type": "code",
   "execution_count": 9,
   "metadata": {
    "collapsed": true
   },
   "outputs": [
    {
     "data": {
      "text/plain": [
       "'\\nresult=[]\\nrunner=pd.DataFrame(expandgrid(\\n                [\\'long\\'],\\n                [0.004081],\\n                [pipe],\\n                [100000,150000],\\n                [0.0042,0.006,0.007,0.008,0.009,0.01,0.012,0.014,0.016,0.018,0.02,0.022,0.024,0.026],\\n                #[0.013,0.014,0.015],\\n                [300,60,900]\\n))\\nrunner.columns = [\\'DIRECTION\\',\\'THRES_PROF\\',\\'MODEL\\',\\'N_TRAIN\\',\\'TRAIN_THRES\\',\\'TARGET_TIME\\']\\n\\nprint(\\'brute force runs: \\' + str(len(runner)))\\n\\nfor i in np.arange(0,runner.shape[0]):\\n    print(\\'#----------------\\' + str(i))\\n    with open(\\'log_backtest.txt\\', \\'a\\') as f: f.write(\\'#----------------\\' + str(i) + \\' of \\' +str(runner.shape[0]) )\\n    DIRECTION = runner.loc[i,\\'DIRECTION\\']\\n    THRES_PROF = runner.loc[i,\\'THRES_PROF\\']\\n    TARGET_TIME = runner.loc[i,\\'TARGET_TIME\\']\\n    TRAIN_THRES = runner.loc[i,\\'TRAIN_THRES\\']\\n    N_TRAIN = runner.loc[i,\\'N_TRAIN\\']\\n    N_TRAIN_MIN = 150000\\n    SKIP_TRADE=TARGET_TIME\\n    FEE_BUY=0.002\\n    FEE_SELL=0.002\\n    TYPE=\"classify\"\\n    TRAIN_STRATEGY = \"NONE\"\\n    MODEL=runner.loc[i,\\'MODEL\\']\\n    BACKTEST_SPLITS=10\\n    d=prep_data(data,col_target=\\'mid\\' + str(TARGET_TIME),col_price=\\'mid\\')\\n    FEATURES = d.filter(regex=(\\'width$|^(imba)|^(adj)|^(tr)|^(t[0-9])|^(agg)|(mid$)\\')).columns\\n    gc.collect()\\n    try:\\n        test=backtesting(d)\\n        r=eval_model(test,-999)[\\'kpis\\']\\n        result.append(r)\\n        pd.concat(result).sort_values(\"ROI\",ascending=False).to_csv(\\'models_brute.csv\\')\\n    except Exception as e: \\n        print(e)\\n        with open(\\'log_backtest.txt\\', \\'a\\') as f: f.write(\\'#----------------\\' + str(i) + str(e))\\n'"
      ]
     },
     "execution_count": 9,
     "metadata": {},
     "output_type": "execute_result"
    }
   ],
   "source": [
    "'''\n",
    "result=[]\n",
    "runner=pd.DataFrame(expandgrid(\n",
    "                ['long'],\n",
    "                [0.004081],\n",
    "                [pipe],\n",
    "                [100000,150000],\n",
    "                [0.0042,0.006,0.007,0.008,0.009,0.01,0.012,0.014,0.016,0.018,0.02,0.022,0.024,0.026],\n",
    "                #[0.013,0.014,0.015],\n",
    "                [300,60,900]\n",
    "))\n",
    "runner.columns = ['DIRECTION','THRES_PROF','MODEL','N_TRAIN','TRAIN_THRES','TARGET_TIME']\n",
    "\n",
    "print('brute force runs: ' + str(len(runner)))\n",
    "\n",
    "for i in np.arange(0,runner.shape[0]):\n",
    "    print('#----------------' + str(i))\n",
    "    with open('log_backtest.txt', 'a') as f: f.write('#----------------' + str(i) + ' of ' +str(runner.shape[0]) )\n",
    "    DIRECTION = runner.loc[i,'DIRECTION']\n",
    "    THRES_PROF = runner.loc[i,'THRES_PROF']\n",
    "    TARGET_TIME = runner.loc[i,'TARGET_TIME']\n",
    "    TRAIN_THRES = runner.loc[i,'TRAIN_THRES']\n",
    "    N_TRAIN = runner.loc[i,'N_TRAIN']\n",
    "    N_TRAIN_MIN = 150000\n",
    "    SKIP_TRADE=TARGET_TIME\n",
    "    FEE_BUY=0.002\n",
    "    FEE_SELL=0.002\n",
    "    TYPE=\"classify\"\n",
    "    TRAIN_STRATEGY = \"NONE\"\n",
    "    MODEL=runner.loc[i,'MODEL']\n",
    "    BACKTEST_SPLITS=10\n",
    "    d=prep_data(data,col_target='mid' + str(TARGET_TIME),col_price='mid')\n",
    "    FEATURES = d.filter(regex=('width$|^(imba)|^(adj)|^(tr)|^(t[0-9])|^(agg)|(mid$)')).columns\n",
    "    gc.collect()\n",
    "    try:\n",
    "        test=backtesting(d)\n",
    "        r=eval_model(test,-999)['kpis']\n",
    "        result.append(r)\n",
    "        pd.concat(result).sort_values(\"ROI\",ascending=False).to_csv('models_brute.csv')\n",
    "    except Exception as e: \n",
    "        print(e)\n",
    "        with open('log_backtest.txt', 'a') as f: f.write('#----------------' + str(i) + str(e))\n",
    "'''"
   ]
  },
  {
   "cell_type": "code",
   "execution_count": 10,
   "metadata": {
    "collapsed": true
   },
   "outputs": [
    {
     "ename": "NameError",
     "evalue": "name 'result' is not defined",
     "output_type": "error",
     "traceback": [
      "\u001b[0;31m---------------------------------------------------------------------------\u001b[0m",
      "\u001b[0;31mNameError\u001b[0m                                 Traceback (most recent call last)",
      "\u001b[0;32m<ipython-input-10-07065c73bde3>\u001b[0m in \u001b[0;36m<module>\u001b[0;34m()\u001b[0m\n\u001b[0;32m----> 1\u001b[0;31m \u001b[0mpd\u001b[0m\u001b[0;34m.\u001b[0m\u001b[0mconcat\u001b[0m\u001b[0;34m(\u001b[0m\u001b[0mresult\u001b[0m\u001b[0;34m)\u001b[0m\u001b[0;34m.\u001b[0m\u001b[0msort_values\u001b[0m\u001b[0;34m(\u001b[0m\u001b[0;34m'ROI'\u001b[0m\u001b[0;34m,\u001b[0m\u001b[0mascending\u001b[0m\u001b[0;34m=\u001b[0m\u001b[0;32mFalse\u001b[0m\u001b[0;34m)\u001b[0m\u001b[0;34m.\u001b[0m\u001b[0mhead\u001b[0m\u001b[0;34m(\u001b[0m\u001b[0;36m3\u001b[0m\u001b[0;34m)\u001b[0m\u001b[0;34m\u001b[0m\u001b[0m\n\u001b[0m",
      "\u001b[0;31mNameError\u001b[0m: name 'result' is not defined"
     ]
    }
   ],
   "source": [
    "pd.concat(result).sort_values('ROI',ascending=False).head(3)"
   ]
  },
  {
   "cell_type": "markdown",
   "metadata": {},
   "source": [
    "# Run best model"
   ]
  },
  {
   "cell_type": "code",
   "execution_count": 16,
   "metadata": {},
   "outputs": [
    {
     "name": "stdout",
     "output_type": "stream",
     "text": [
      "from_i: 104862 to_i: 112927 targets_total: 9192 targets_prop 0.0928475469945\n",
      "from_i: 112928 to_i: 120993 targets_total: 8963 targets_prop 0.0905243808831\n",
      "from_i: 120994 to_i: 129059 targets_total: 7588 targets_prop 0.0765513553867\n",
      "from_i: 129060 to_i: 137125 targets_total: 8477 targets_prop 0.0854622441778\n",
      "from_i: 137126 to_i: 145191 targets_total: 8443 targets_prop 0.0851357755796\n",
      "from_i: 145192 to_i: 153257 targets_total: 8078 targets_prop 0.0813814086096\n",
      "from_i: 153258 to_i: 161323 targets_total: 8548 targets_prop 0.0860643771206\n",
      "from_i: 161324 to_i: 169389 targets_total: 8137 targets_prop 0.0818990679791\n",
      "from_i: 169390 to_i: 177455 targets_total: 8405 targets_prop 0.0846186372423\n",
      "from_i: 177456 to_i: 185521 targets_total: 8457 targets_prop 0.0851387266943\n",
      "from_i: 185522 to_i: 193587 targets_total: 8375 targets_prop 0.0842953911809\n",
      "from_i: 193588 to_i: 201653 targets_total: 8635 targets_prop 0.0868895843186\n",
      "from_i: 201654 to_i: 209719 targets_total: 8972 targets_prop 0.0903215414662\n",
      "from_i: 209720 to_i: 217785 targets_total: 8466 targets_prop 0.0852602320335\n",
      "from_i: 217786 to_i: 225851 targets_total: 10640 targets_prop 0.107221315275\n",
      "from_i: 225852 to_i: 233917 targets_total: 11387 targets_prop 0.114801036405\n",
      "from_i: 233918 to_i: 241983 targets_total: 12582 targets_prop 0.12685385895\n",
      "from_i: 241984 to_i: 250049 targets_total: 12570 targets_prop 0.126712432334\n",
      "from_i: 250050 to_i: 258115 targets_total: 12995 targets_prop 0.131028363431\n",
      "from_i: 258116 to_i: 266181 targets_total: 12308 targets_prop 0.124071329926\n",
      "from_i: 266182 to_i: 274247 targets_total: 12199 targets_prop 0.12297007147\n",
      "from_i: 274248 to_i: 282313 targets_total: 12837 targets_prop 0.129390894155\n",
      "from_i: 282314 to_i: 290379 targets_total: 14245 targets_prop 0.143650921705\n",
      "from_i: 290380 to_i: 298445 targets_total: 16213 targets_prop 0.163534763619\n",
      "from_i: 298446 to_i: 306511 targets_total: 17440 targets_prop 0.175886238717\n",
      "from_i: 306512 to_i: 314577 targets_total: 18644 targets_prop 0.188059189623\n",
      "from_i: 314578 to_i: 322643 targets_total: 18230 targets_prop 0.183901784543\n",
      "from_i: 322644 to_i: 330709 targets_total: 17587 targets_prop 0.177461832639\n",
      "from_i: 330710 to_i: 338775 targets_total: 16259 targets_prop 0.1640997174\n",
      "from_i: 338776 to_i: 346841 targets_total: 15576 targets_prop 0.157185674064\n",
      "from_i: 346842 to_i: 354907 targets_total: 15508 targets_prop 0.156548424219\n",
      "from_i: 354908 to_i: 362973 targets_total: 14957 targets_prop 0.150920740629\n",
      "from_i: 362974 to_i: 371039 targets_total: 15503 targets_prop 0.156436362902\n",
      "from_i: 371040 to_i: 379105 targets_total: 15466 targets_prop 0.156119719376\n",
      "from_i: 379106 to_i: 387171 targets_total: 15274 targets_prop 0.154178485268\n",
      "from_i: 387172 to_i: 395237 targets_total: 14476 targets_prop 0.146201547256\n",
      "from_i: 395238 to_i: 403303 targets_total: 12805 targets_prop 0.129278142352\n",
      "from_i: 403304 to_i: 411369 targets_total: 12521 targets_prop 0.126379005804\n",
      "from_i: 411370 to_i: 419435 targets_total: 12842 targets_prop 0.129594122752\n",
      "from_i: 419436 to_i: 427501 targets_total: 12778 targets_prop 0.128956079445\n"
     ]
    }
   ],
   "source": [
    "#--------------BACKTESTING\n",
    "PARAS = OrderedDict(\n",
    "    TYPE=\"classify\",\n",
    "    DIRECTION = 'long',\n",
    "    THRES_PROF = 0.004081,\n",
    "    TARGET_TIME = 300,\n",
    "    TRAIN_THRES=0.0043,\n",
    "    N_TRAIN = 100000,\n",
    "    N_TRAIN_MIN = 100000,\n",
    "    N_WINDOW_MIN = 100000,\n",
    "    TRAIN_STRATEGY = \"NONE\",\n",
    "    MODEL=pipe,\n",
    "    BACKTEST_SPLITS=52,\n",
    "    FEATURES = data.filter(regex=('width$|^(imba)|^(adj)|^(tr)|^(t[0-9])|^(agg)|(mid$)')).columns.tolist(),\n",
    "    FEE_BUY=0.002,\n",
    "    FEE_SELL=0.002,\n",
    "    MODEL_SCORER=None\n",
    ")\n",
    "\n",
    "d=prep_data(data,col_target='mid' + str(PARAS['TARGET_TIME']),col_price='mid',P=PARAS)\n",
    "test=backtesting(d,PARAS)"
   ]
  },
  {
   "cell_type": "markdown",
   "metadata": {},
   "source": [
    "# Evaluate model"
   ]
  },
  {
   "cell_type": "code",
   "execution_count": 30,
   "metadata": {},
   "outputs": [
    {
     "name": "stdout",
     "output_type": "stream",
     "text": [
      "        ROI  ROI_bench   ROI_day  trades       days  max_trades  days_trading  \\\n",
      "0  1.466619   0.995294  0.027942      43  52.488574       46384            13   \n",
      "\n",
      "   cutoff  precision      TYPE     ...      TRAIN_THRES  N_TRAIN  N_TRAIN_MIN  \\\n",
      "0    0.98   0.702778  classify     ...           0.0043   100000       100000   \n",
      "\n",
      "   N_WINDOW_MIN  TRAIN_STRATEGY  BACKTEST_SPLITS  \\\n",
      "0        100000            NONE               52   \n",
      "\n",
      "                                            FEATURES FEE_BUY  FEE_SELL  \\\n",
      "0  [width, mid, imbalance2, adj_price2, imbalance...   0.002     0.002   \n",
      "\n",
      "  MODEL_SCORER  \n",
      "0         None  \n",
      "\n",
      "[1 rows x 23 columns]\n"
     ]
    },
    {
     "data": {
      "image/png": "[encoded data removed]",
      "text/plain": [
       "<matplotlib.figure.Figure at 0x7f7ac848e780>"
      ]
     },
     "metadata": {},
     "output_type": "display_data"
    },
    {
     "data": {
      "text/plain": [
       "<ggplot: (-9223363276522128959)>"
      ]
     },
     "execution_count": 30,
     "metadata": {},
     "output_type": "execute_result"
    }
   ],
   "source": [
    "PARAS['FEE_BUY']=0.002\n",
    "PARAS['FEE_SELL']=0.002\n",
    "cutoff=list(np.arange(0.95,0.99,0.005))\n",
    "#cutoff=0.978\n",
    "kpi_obj=eval_model(test,cutoff,PARAS)\n",
    "kpi_data = kpi_obj['data']\n",
    "print(kpi_obj['kpis'])\n",
    "from ggplot import *\n",
    "data_plot=pd.melt(kpi_data[['return_cum','price_real','time']], id_vars=['time'])\n",
    "ggplot(data_plot, aes(x='time', y='value', color='variable')) + geom_line() "
   ]
  },
  {
   "cell_type": "markdown",
   "metadata": {},
   "source": [
    "# Custom TimeSeriesSplit"
   ]
  },
  {
   "cell_type": "code",
   "execution_count": null,
   "metadata": {
    "collapsed": true
   },
   "outputs": [],
   "source": [
    "'''\n",
    "from sklearn.model_selection import TimeSeriesSplit\n",
    "from sklearn.cross_validation import _BaseKFold\n",
    "\n",
    "class TimeSeriesSplit(_BaseKFold):\n",
    "\n",
    "    def __init__(self, n_splits=3, max_train_size=None):\n",
    "        super(TimeSeriesSplit, self).__init__(n_splits,\n",
    "                                              shuffle=False,\n",
    "                                              random_state=None)\n",
    "        self.max_train_size = max_train_size\n",
    "\n",
    "    def split(self, X, y=None, groups=None):\n",
    "        X, y, groups = indexable(X, y, groups)\n",
    "        n_samples = _num_samples(X)\n",
    "        n_splits = self.n_splits\n",
    "        n_folds = n_splits + 1\n",
    "        if n_folds > n_samples:\n",
    "            raise ValueError(\n",
    "                (\"Cannot have number of folds ={0} greater\"\n",
    "                 \" than the number of samples: {1}.\").format(n_folds,\n",
    "                                                             n_samples))\n",
    "        indices = np.arange(n_samples)\n",
    "        test_size = (n_samples // n_folds)\n",
    "        test_starts = range(test_size + n_samples % n_folds,\n",
    "                            n_samples, test_size)\n",
    "        for test_start in test_starts:\n",
    "            if self.max_train_size and self.max_train_size < test_start:\n",
    "                yield (indices[test_start - self.max_train_size:test_start],\n",
    "                       indices[test_start:test_start + test_size])\n",
    "            else:\n",
    "                yield (indices[:test_start],\n",
    "                       indices[test_start:test_start + test_size])\n",
    "                       \n",
    "'''"
   ]
  },
  {
   "cell_type": "markdown",
   "metadata": {},
   "source": [
    "# TPOT genetic algorithms"
   ]
  },
  {
   "cell_type": "code",
   "execution_count": null,
   "metadata": {
    "collapsed": true
   },
   "outputs": [],
   "source": [
    "'''\n",
    "from tpot import TPOTClassifier\n",
    "TYPE=\"classify\"\n",
    "TRAIN_STRATEGY = \"NONE\"\n",
    "MODEL={'scoring' : 0}\n",
    "THRES_PROF = 0.00402\n",
    "TARGET_TIME = 800\n",
    "TRAIN_THRES=0.012\n",
    "N_TRAIN = 200000\n",
    "\n",
    "d=prep_data(dr)\n",
    "FEATURES = d.filter(regex=('width$|^(imba)|^(adj)|^(tr)|^(t[0-9])|^(agg)|(mid$)')).columns\n",
    "\n",
    "tpot = TPOTClassifier(generations=10, population_size=20, verbosity=2,\n",
    "                      scoring=\"log_loss\",random_state=1,n_jobs=12,cv=TimeSeriesSplit(max_train_size=200000,n_splits=3,))\n",
    "\n",
    "splits=10\n",
    "cv=TimeSeriesSplit(n_splits=splits,max_train_size=400000)\n",
    "i_train, i_test = [i for i in cv.split(d)][splits-1]\n",
    "print(i_test.shape)\n",
    "X=d.iloc[i_train,:]\n",
    "X = X[(X.target >= TRAIN_THRES) | (X.target < THRES_PROF) ]\n",
    "test = d.iloc[i_test,:]\n",
    "\n",
    "tpot.fit(X[FEATURES], X.target_cat)\n",
    "y_pred_prob2 = tpot.predict_proba(test[FEATURES])\n",
    "test['y_pred_prob'] = np.asarray([p[1] for p in y_pred_prob2 ])\n",
    "\n",
    "#tpot.export('tpot_mnist_pipeline.py')\n",
    "#t=tpot.clean_pipeline_string\n",
    "'''\n",
    "tpot.fitted_pipeline_"
   ]
  },
  {
   "cell_type": "markdown",
   "metadata": {},
   "source": [
    "# Regression pipeline (imbalanced)"
   ]
  },
  {
   "cell_type": "code",
   "execution_count": null,
   "metadata": {
    "collapsed": true
   },
   "outputs": [],
   "source": [
    "'''\n",
    "#--------regression pipe\n",
    "pipe=ImbPipe([\n",
    "            ('ft', FunctionTransformer(transform_features,validate=False)),\n",
    "            ('rs', StandardScaler()), \n",
    "            ('pca',PCA()),\n",
    "            ('enet',ElasticNet(random_state=1,alpha=0.001,l1_ratio=0))\n",
    "])\n",
    "\n",
    "params = {\n",
    "          'enet__alpha': [0.001,0.005,0.01],\n",
    "         'enet__l1_ratio': [0,0.001,0.01]\n",
    "         }\n",
    "grid0 = GridSearchCV(estimator=pipe,refit=True,param_grid=params,n_jobs=16,verbose=0,\n",
    "                    cv=TimeSeriesSplit(n_splits=2),\n",
    "                    scoring=score_custom_regression)\n",
    "'''"
   ]
  },
  {
   "cell_type": "markdown",
   "metadata": {},
   "source": [
    "# Keras pipeline"
   ]
  },
  {
   "cell_type": "code",
   "execution_count": null,
   "metadata": {
    "collapsed": true
   },
   "outputs": [],
   "source": [
    "#-----neural network pipe\n",
    "'''\n",
    "from sklearn.model_selection import GridSearchCV\n",
    "from keras.models import Sequential\n",
    "from keras.layers import Dense\n",
    "from keras.layers import Dropout\n",
    "from keras.wrappers.scikit_learn import KerasClassifier\n",
    "from keras.constraints import maxnorm\n",
    "\n",
    "# Function to create model, required for KerasClassifier\n",
    "def create_model(neurons=1):\n",
    "    # create model\n",
    "    model = Sequential()\n",
    "    model.add(Dense(neurons, input_dim=40, kernel_initializer='uniform', activation='linear', kernel_constraint=maxnorm(4)))\n",
    "    model.add(Dropout(0.2))\n",
    "    model.add(Dense(1, kernel_initializer='uniform', activation='relu'))\n",
    "    # Compile model\n",
    "    model.compile(loss='binary_crossentropy', optimizer='adam', metrics=['accuracy'])\n",
    "    return model\n",
    "\n",
    "# fix random seed for reproducibility\n",
    "np.random.seed(0)\n",
    "# create model\n",
    "nnet = KerasClassifier(build_fn=create_model, epochs=100, batch_size=10, verbose=0)\n",
    "\n",
    "pipe=ImbPipe([\n",
    "            ('ft', FunctionTransformer(transform_features,validate=False)),\n",
    "            ('rs', StandardScaler()), \n",
    "            ('nnet',nnet)\n",
    "])\n",
    "\n",
    "# define the grid search parameters\n",
    "params = dict(neurons=[1,2,5])\n",
    "\n",
    "#grid3 = GridSearchCV(estimator=pipe,refit=True,param_grid=params,n_jobs=16,verbose=0,\n",
    "                    cv=TimeSeriesSplit(n_splits=10,),\n",
    "                    scoring=\"log_loss\")\n",
    "'''"
   ]
  }
 ],
 "metadata": {
  "kernelspec": {
   "display_name": "Python 3",
   "language": "python",
   "name": "python3"
  },
  "language_info": {
   "codemirror_mode": {
    "name": "ipython",
    "version": 3
   },
   "file_extension": ".py",
   "mimetype": "text/x-python",
   "name": "python",
   "nbconvert_exporter": "python",
   "pygments_lexer": "ipython3",
   "version": "3.6.3"
  }
 },
 "nbformat": 4,
 "nbformat_minor": 2
}
